{
 "cells": [
  {
   "cell_type": "code",
   "execution_count": null,
   "id": "cdbdffa6-8fa6-485c-b24e-b801dd616cab",
   "metadata": {},
   "outputs": [],
   "source": [
    "import pandas as pd\n",
    "import numpy as np\n",
    "import matplotlib.pyplot as plt\n",
    "import seaborn as sns\n",
    "from PIL import Image\n",
    "from pandas.plotting import table\n",
    "from IPython.display import clear_output\n",
    "import warnings\n",
    "\n",
    "warnings.filterwarnings(\"ignore\")\n",
    "plt.rcParams['figure.dpi'] = 500"
   ]
  },
  {
   "cell_type": "code",
   "execution_count": null,
   "id": "5f02b79a-defb-4bbc-b822-02a17ee68c84",
   "metadata": {},
   "outputs": [],
   "source": [
    "import azobe_data_analysis as azobe"
   ]
  },
  {
   "cell_type": "code",
   "execution_count": null,
   "id": "15f129e7-937a-48b8-933b-4ce5ac91d6ed",
   "metadata": {},
   "outputs": [],
   "source": [
    "# Excel sheet for overall statistics\n",
    "\n",
    "empty_df = pd.DataFrame()\n",
    "file_path = 'Visuals/Tables/stats_sheet.xlsx'   \n",
    "with pd.ExcelWriter(file_path, engine='openpyxl') as writer:\n",
    "    empty_df.to_excel(writer, sheet_name='basic', index=False)"
   ]
  },
  {
   "cell_type": "code",
   "execution_count": null,
   "id": "ec18d8b6-2790-4da2-a570-c59127c9b937",
   "metadata": {},
   "outputs": [],
   "source": [
    "# Excel sheet for breakdown statistics\n",
    "\n",
    "empty_df = pd.DataFrame()\n",
    "file_path2 = 'Visuals/Tables/stats_breakdown_sheet.xlsx'   \n",
    "with pd.ExcelWriter(file_path2, engine='openpyxl') as writer:\n",
    "    empty_df.to_excel(writer, sheet_name='basic', index=False)"
   ]
  },
  {
   "cell_type": "code",
   "execution_count": null,
   "id": "07f4ee90-e428-4ffd-b33b-f9fb2ce6d699",
   "metadata": {},
   "outputs": [],
   "source": [
    "cay_df = pd.read_excel('data/Clean Data/24-PI-NG-1 CAY_cleaned.xlsx', index_col=0)\n",
    "pp_df = pd.read_excel('data/Clean Data/24-PI-NG-1 Parents and Caregivers_cleaned.xlsx', index_col=0)\n",
    "sw_df = pd.read_excel('data/Clean Data/24-PI-NG-1 Social Workers_cleaned.xlsx', index_col=0)\n",
    "yo_df = pd.read_excel('data/Clean Data/24-PI-NG-1 Youth Organisations_cleaned.xlsx', index_col=0)"
   ]
  },
  {
   "cell_type": "markdown",
   "id": "9fdd9a59-07ed-45bc-acf5-55ef0190b469",
   "metadata": {},
   "source": [
    "### Overall Analysis"
   ]
  },
  {
   "cell_type": "markdown",
   "id": "d7f1bf59-4c9b-4754-bd7b-3df795a34db0",
   "metadata": {},
   "source": [
    "## Social Demographics"
   ]
  },
  {
   "cell_type": "code",
   "execution_count": null,
   "id": "63040c27-2b7b-4619-b559-6f55526385e7",
   "metadata": {},
   "outputs": [],
   "source": [
    "bodhi_blue = (0.0745, 0.220, 0.396)\n",
    "bodhi_grey = (0.247, 0.29, 0.322)\n",
    "bodhi_primary_1 = (0.239, 0.38, 0.553)\n",
    "bodhi_secondary = (0.133, 0.098, 0.42)\n",
    "bodhi_tertiary = (0.047, 0.396, 0.298)\n",
    "bodhi_complement = (0.604, 0.396, 0.071)\n",
    "color_palette = [bodhi_primary_1, bodhi_complement, bodhi_tertiary, bodhi_blue, bodhi_grey, bodhi_secondary]\n",
    "\n",
    "data = {\n",
    "    \"Geopolitical Zone\": [\"CAY\", \"Parents and Caregivers\", \"Social workers\", \"Youth Organisations\"],\n",
    "    \"North West\" : [210, 46, 34, 32],\n",
    "    \"North East\" : [117, 30, 12, 6],\n",
    "    \"North Central\": [149, 46, 18, 1],\n",
    "    \"South West\": [178, 47, 62, 0],\n",
    "    \"South East\": [160, 49, 24, 5],\n",
    "    \"South South\": [128, 34, 10, 8]\n",
    "}\n",
    "\n",
    "\n",
    "df = pd.DataFrame(data)\n",
    "\n",
    "totals = df.drop('Geopolitical Zone', axis=1).sum(axis=1)\n",
    "\n",
    "plt.figure(figsize=(24, 10))\n",
    "\n",
    "ax = df.set_index('Geopolitical Zone').plot(\n",
    "    kind='bar', \n",
    "    stacked=False, \n",
    "    color=color_palette,\n",
    "    width=0.9 \n",
    ")\n",
    "\n",
    "for container in ax.containers:\n",
    "    for i, bar in enumerate(container):\n",
    "        height = bar.get_height()\n",
    "        total = totals[i]\n",
    "        percentage = (height / total) * 100 if total != 0 else 0\n",
    "        ax.text(\n",
    "            bar.get_x() + bar.get_width() / 2.0,\n",
    "            bar.get_y() + height,\n",
    "            f'{height:.0f}\\n({percentage:.0f}%)',\n",
    "            ha='center',\n",
    "            va='bottom',\n",
    "            fontsize=4.3, \n",
    "            color='black'\n",
    "        )\n",
    "\n",
    "ax.set_xticks(range(len(df)))\n",
    "ax.set_xticklabels(df['Geopolitical Zone'], rotation=0, ha='center', fontsize=7)\n",
    "ax.tick_params(axis='y', labelsize=7)\n",
    "\n",
    "plt.title('Respondents by Geopolitical Zone', fontsize=8)\n",
    "plt.xlabel(' ')\n",
    "plt.ylabel(' ')\n",
    "plt.legend(fontsize=6)\n",
    "\n",
    "plt.show()"
   ]
  },
  {
   "cell_type": "code",
   "execution_count": null,
   "id": "2717c724-1a2f-493f-9784-03050f6ad385",
   "metadata": {},
   "outputs": [],
   "source": [
    "surveys = ['CAY', 'Parents and Caregivers', 'Social workers', 'Youth Organisations']\n",
    "dfs = [cay_df, pp_df, sw_df, yo_df]\n",
    "for df, survey in zip(dfs, surveys):\n",
    "    region = azobe.count_df(df, 's1',file_path, custom_order=None, index_name=f'1. Geopolitical Zone_{survey}')\n",
    "    title = f'[{survey}] Which geopolitical zone do you live in?'\n",
    "    xlabel = ' '\n",
    "    azobe.plot_bar(region, 'Percentage', title = title, xlabel = xlabel, output_file = f'Visuals/Plots/{survey}_1-geo-zone.png', figsize=(18, 10), rotation=0, fontsize = 14)"
   ]
  },
  {
   "cell_type": "code",
   "execution_count": null,
   "id": "7135b52c-c47b-4a18-8129-69f1b09b9845",
   "metadata": {},
   "outputs": [],
   "source": [
    "survey = 'CAY'\n",
    "order = ['10 - 15','16 - 19','20 - 24','25 - 30','31 - 34','35 - 60']\n",
    "age = azobe.count_df(cay_df, 'Age Group', file_path, custom_order=order, index_name=f'2. Age group_{survey}')\n",
    "title = f'[{survey}] Age distribution'\n",
    "xlabel = ' '\n",
    "azobe.plot_bar(age, 'Percentage', title = title, xlabel = xlabel, output_file = f'Visuals/Plots/{survey}_2-age_group.png', figsize=(18, 10), rotation=0, fontsize = 14)"
   ]
  },
  {
   "cell_type": "code",
   "execution_count": null,
   "id": "f3ce918d-d5b0-40bd-b1cb-832d0e2bd2c4",
   "metadata": {},
   "outputs": [],
   "source": [
    "survey = 'Parents and Caregivers'\n",
    "order = ['18 - 24','25 - 30','31 - 34','35 - 60','Above 60 years']\n",
    "age = azobe.count_df(pp_df, '1', file_path, custom_order=order, index_name=f'2. Age group_{survey}')\n",
    "title = f'[{survey}] Age distribution'\n",
    "xlabel = ' '\n",
    "azobe.plot_bar(age, 'Percentage', title = title, xlabel = xlabel, output_file = f'Visuals/Plots/{survey}_2-age_group.png', figsize=(18, 10), rotation=0, fontsize = 14)"
   ]
  },
  {
   "cell_type": "code",
   "execution_count": null,
   "id": "4ee6e050-1aba-4fb3-8843-b63f884abd76",
   "metadata": {},
   "outputs": [],
   "source": [
    "survey = 'Social workers'\n",
    "order = ['18 - 24','25 - 30','31 - 34','35 - 60','Above 60 years']\n",
    "age = azobe.count_df(sw_df, '1', file_path, custom_order=order, index_name=f'2. Age group_{survey}')\n",
    "title = f'[{survey}] Age distribution'\n",
    "xlabel = ' '\n",
    "azobe.plot_bar(age, 'Percentage', title = title, xlabel = xlabel, output_file = f'Visuals/Plots/{survey}_2-age_group.png', figsize=(18, 10), rotation=0, fontsize = 14)"
   ]
  },
  {
   "cell_type": "code",
   "execution_count": null,
   "id": "f0fa82f7-52bc-4517-a1e1-1f3d5cce1905",
   "metadata": {},
   "outputs": [],
   "source": [
    "survey = 'CAY'\n",
    "order = ['Less than 6 months','Between 6 and 12 months','Between 1 and 3 years','Between 3 and 5 years','More than 5 years']\n",
    "age = azobe.count_df(cay_df, '3', file_path, custom_order=order, index_name=f'3. residency_duration_{survey}')\n",
    "title = f'[{survey}] Residency duration'\n",
    "xlabel = ' '\n",
    "azobe.plot_bar(age, 'Percentage', title = title, xlabel = xlabel, output_file = f'Visuals/Plots/{survey}_3-residency_duration.png', figsize=(18, 10), rotation=0, fontsize = 12)"
   ]
  },
  {
   "cell_type": "code",
   "execution_count": null,
   "id": "ae641cca-dd33-4c07-ac9f-accbbab8b334",
   "metadata": {},
   "outputs": [],
   "source": [
    "survey = 'Parents and Caregivers'\n",
    "order = ['Less than 6 months','Between 6 and 12 months','Between 1 and 3 years','Between 3 and 5 years','More than 5 years']\n",
    "age = azobe.count_df(pp_df, '2', file_path, custom_order=order, index_name=f'3. residency_duration_{survey}')\n",
    "title = f'[{survey}] Residency duration'\n",
    "xlabel = ' '\n",
    "azobe.plot_bar(age, 'Percentage', title = title, xlabel = xlabel, output_file = f'Visuals/Plots/{survey}_3-residency_duration.png', figsize=(18, 10), rotation=0, fontsize = 11)"
   ]
  },
  {
   "cell_type": "code",
   "execution_count": null,
   "id": "2a678539-4b9f-4c56-9a75-26154374be47",
   "metadata": {},
   "outputs": [],
   "source": [
    "survey = 'Social workers'\n",
    "order = ['Less than 6 months','Between 6 and 12 months','Between 1 and 3 years','Between 3 and 5 years','More than 5 years']\n",
    "age = azobe.count_df(sw_df, '2', file_path, custom_order=order, index_name=f'3. residency_duration_{survey}')\n",
    "title = f'[{survey}] Residency duration'\n",
    "xlabel = ' '\n",
    "azobe.plot_bar(age, 'Percentage', title = title, xlabel = xlabel, output_file = f'Visuals/Plots/{survey}_3-residency_duration.png', figsize=(18, 10), rotation=0, fontsize = 11)"
   ]
  },
  {
   "cell_type": "code",
   "execution_count": null,
   "id": "45e35344-5973-48d4-93c1-d6becbd631a3",
   "metadata": {},
   "outputs": [],
   "source": [
    "bodhi_blue = (0.0745, 0.220, 0.396)\n",
    "bodhi_grey = (0.247, 0.29, 0.322)\n",
    "bodhi_primary_1 = (0.239, 0.38, 0.553)\n",
    "bodhi_secondary = (0.133, 0.098, 0.42)\n",
    "bodhi_tertiary = (0.047, 0.396, 0.298)\n",
    "bodhi_complement = (0.604, 0.396, 0.071)\n",
    "color_palette = [bodhi_primary_1, bodhi_complement, bodhi_tertiary, bodhi_blue, bodhi_grey, bodhi_secondary]\n",
    "\n",
    "data = {\n",
    "    \"Survey\": [\"Cay\", \"Parents and Caregivers\", \"Social workers\"],\n",
    "    \"Female\": [526, 144, 100],\n",
    "    \"Male\": [416, 108, 60],\n",
    "}\n",
    "\n",
    "\n",
    "df = pd.DataFrame(data)\n",
    "\n",
    "plt.figure(figsize=(12,8))\n",
    "ax = df.set_index('Survey').plot(kind='bar', stacked=False, color=color_palette)\n",
    "for container in ax.containers:\n",
    "    for i, bar in enumerate(container):\n",
    "        height = bar.get_height()\n",
    "        total = totals[i]\n",
    "        percentage = (height / total) * 100 if total != 0 else 0\n",
    "        ax.text(\n",
    "            bar.get_x() + bar.get_width() / 2.0,\n",
    "            bar.get_y() + height / 2.0,\n",
    "            f'{height:.0f}\\n({percentage:.1f}%)',  # Display both count and percentage\n",
    "            ha='center',\n",
    "            va='center',\n",
    "            fontsize=6, \n",
    "            color='white'\n",
    "        )\n",
    "        \n",
    "plt.xticks(rotation=0, ha='center', fontsize = 7)\n",
    "ax.tick_params(axis='y', labelsize=7)\n",
    "plt.title('Gender Distribution', fontsize = 8)\n",
    "plt.xlabel(' ')\n",
    "plt.ylabel(' ')\n",
    "plt.legend(fontsize = 6)\n",
    "\n",
    "plt.show()"
   ]
  },
  {
   "cell_type": "code",
   "execution_count": null,
   "id": "fa4830fe-85de-4f4e-b82f-e0b7ce61b663",
   "metadata": {},
   "outputs": [],
   "source": [
    "survey = 'CAY'\n",
    "order = ['Male','Female']\n",
    "sex = azobe.count_df(cay_df, '4', file_path, custom_order=order, index_name=f'4. sex_{survey}')\n",
    "title = f'[{survey}] Sex distribution'\n",
    "xlabel = ' '\n",
    "azobe.plot_bar(sex, 'Percentage', title = title, xlabel = xlabel, output_file = f'Visuals/Plots/{survey}_4-sex.png', figsize=(18, 10), rotation=0, fontsize = 14)"
   ]
  },
  {
   "cell_type": "code",
   "execution_count": null,
   "id": "2d9cdc76-7ab2-467b-99e3-fbf5d6dcd47f",
   "metadata": {},
   "outputs": [],
   "source": [
    "survey = 'Parents and Caregivers'\n",
    "order = ['Male','Female']\n",
    "sex = azobe.count_df(pp_df, '3', file_path, custom_order=order, index_name=f'4. sex_{survey}')\n",
    "title = f'[{survey}] Sex distribution'\n",
    "xlabel = ' '\n",
    "azobe.plot_bar(sex, 'Percentage', title = title, xlabel = xlabel, output_file = f'Visuals/Plots/{survey}_4-sex.png', figsize=(18, 10), rotation=0, fontsize = 14)"
   ]
  },
  {
   "cell_type": "code",
   "execution_count": null,
   "id": "90534921-61b6-4fde-8616-aeae1b4753eb",
   "metadata": {},
   "outputs": [],
   "source": [
    "survey = 'Social workers'\n",
    "order = ['Male','Female']\n",
    "sex = azobe.count_df(sw_df, '3', file_path, custom_order=order, index_name=f'4. sex_{survey}')\n",
    "title = f'[{survey}] Sex distribution'\n",
    "xlabel = ' '\n",
    "azobe.plot_bar(sex, 'Percentage', title = title, xlabel = xlabel, output_file = f'Visuals/Plots/{survey}_4-sex.png', figsize=(18, 10), rotation=0, fontsize = 14)"
   ]
  },
  {
   "cell_type": "code",
   "execution_count": null,
   "id": "bcf2b0e5-6a9e-4017-8f13-f3c0ba15afe9",
   "metadata": {},
   "outputs": [],
   "source": [
    "survey = 'CAY'\n",
    "order = ['Yes','No']\n",
    "sex = azobe.count_df(cay_df, '5', file_path, custom_order=order, index_name=f'5. education_{survey}')\n",
    "title = f'[{survey}] Have you attended any schooling?'\n",
    "xlabel = ' '\n",
    "azobe.plot_bar(sex, 'Percentage', title = title, xlabel = xlabel, output_file = f'Visuals/Plots/{survey}_5-education.png', figsize=(18, 10), rotation=0, fontsize = 14)"
   ]
  },
  {
   "cell_type": "code",
   "execution_count": null,
   "id": "4617983e-660a-4bb3-b43f-15f62b8fc68c",
   "metadata": {},
   "outputs": [],
   "source": [
    "survey = 'Parents and Caregivers'\n",
    "order = ['Yes','No']\n",
    "sex = azobe.count_df(pp_df, '4', file_path, custom_order=order, index_name=f'5. education_{survey}')\n",
    "title = f'[{survey}] Have you attended any schooling?'\n",
    "xlabel = ' '\n",
    "azobe.plot_bar(sex, 'Percentage', title = title, xlabel = xlabel, output_file = f'Visuals/Plots/{survey}_5-education.png', figsize=(18, 10), rotation=0, fontsize = 14)"
   ]
  },
  {
   "cell_type": "code",
   "execution_count": null,
   "id": "0acc9c5c-f350-458d-a5c8-a71b81b04b69",
   "metadata": {},
   "outputs": [],
   "source": [
    "survey = 'Social workers'\n",
    "order = ['Yes','No']\n",
    "sex = azobe.count_df(sw_df, '4', file_path, custom_order=order, index_name=f'5. education_{survey}')\n",
    "title = f'[{survey}] Have you attended any schooling?'\n",
    "xlabel = ' '\n",
    "azobe.plot_bar(sex, 'Percentage', title = title, xlabel = xlabel, output_file = f'Visuals/Plots/{survey}_5-education.png', figsize=(18, 10), rotation=0, fontsize = 14)"
   ]
  },
  {
   "cell_type": "code",
   "execution_count": null,
   "id": "7dadd185-f10a-4cae-91bb-6ea3d7263405",
   "metadata": {},
   "outputs": [],
   "source": [
    "survey = 'CAY'\n",
    "categories = [1, 0]\n",
    "change = ['Yes', 'No']\n",
    "columns_labels = ['Student', 'Employed', 'Self-employed', 'Peasant/livestock keeper', 'Housewife/househusband', 'Unemployed', 'Prefer not to answer', 'Other']\n",
    "occ_table = azobe.multi_table(cay_df, ['9-1','9-2','9-3','9-4','9-5','9-6','9-7','9-o'], categories = categories, file_path=file_path, change = change, column_labels = columns_labels, index_name = f'6. Occupation_{survey}')\n",
    "title = f'[{survey}] What is your current occupation?'\n",
    "azobe.top_plot(occ_table, title, output_file = f'Visuals/Plots/{survey}_6-occupation.png', number = 5)"
   ]
  },
  {
   "cell_type": "code",
   "execution_count": null,
   "id": "0de44823-9922-4954-9153-1a1acfc64ea0",
   "metadata": {},
   "outputs": [],
   "source": [
    "survey = 'Parents and Caregivers'\n",
    "categories = [1, 0]\n",
    "change = ['Yes', 'No']\n",
    "columns_labels = ['Student', 'Employed', 'Self-employed', 'Peasant/\\nlivestock keeper', 'Housewife/\\nhousehusband', 'Unemployed', 'Prefer not to answer', 'Other']\n",
    "occ_table = azobe.multi_table(pp_df, ['8-1','8-2','8-3','8-4','8-5','8-6','8-7','8-o'], categories = categories, file_path=file_path, change = change, column_labels = columns_labels, index_name = f'6. Occupation_{survey}')\n",
    "title = f'[{survey}] What is your current occupation?'\n",
    "azobe.top_plot(occ_table, title, output_file = f'Visuals/Plots/{survey}_6-occupation.png', number = 5)"
   ]
  },
  {
   "cell_type": "code",
   "execution_count": null,
   "id": "44152999-df14-479d-ade2-7d14d1d57f7c",
   "metadata": {},
   "outputs": [],
   "source": [
    "survey = 'Social workers'\n",
    "categories = [1, 0]\n",
    "change = ['Yes', 'No']\n",
    "columns_labels = ['Student', 'Employed', 'Self-employed', 'Peasant/\\nlivestock keeper', 'Housewife/\\nhousehusband', 'Unemployed', 'Prefer not to answer', 'Other']\n",
    "occ_table = azobe.multi_table(sw_df, ['8-1','8-2','8-3','8-4','8-5','8-6','8-7','8-o'], categories = categories, file_path=file_path, change = change, column_labels = columns_labels, index_name = f'6. Occupation_{survey}')\n",
    "title = f'[{survey}] What is your current occupation?'\n",
    "azobe.top_plot(occ_table, title, output_file = f'Visuals/Plots/{survey}_6-occupation.png', number = 5)"
   ]
  },
  {
   "cell_type": "code",
   "execution_count": null,
   "id": "10e47607-1c52-45ba-8ba8-3fc7f2171c07",
   "metadata": {},
   "outputs": [],
   "source": [
    "survey = 'CAY'\n",
    "order = ['Single','Married','Engaged','Widow','Separated','Prefer not to say']\n",
    "sex = azobe.count_df(cay_df, '12', file_path, custom_order=order, index_name=f'7. relationship_{survey}')\n",
    "title = f'[{survey}] What is your relationship status?'\n",
    "xlabel = ' '\n",
    "azobe.plot_bar(sex, 'Percentage', title = title, xlabel = xlabel, output_file = f'Visuals/Plots/{survey}_7-relationship.png', figsize=(18, 10), rotation=0, fontsize = 14)"
   ]
  },
  {
   "cell_type": "code",
   "execution_count": null,
   "id": "321d01d7-dded-4832-a126-fbe26b247dd2",
   "metadata": {},
   "outputs": [],
   "source": [
    "survey = 'Parents and Caregivers'\n",
    "order = ['Married','Engaged','Widow','Separated']\n",
    "sex = azobe.count_df(pp_df, '10', file_path, custom_order=order, index_name=f'7. relationship_{survey}')\n",
    "title = f'[{survey}] What is your relationship status?'\n",
    "xlabel = ' '\n",
    "azobe.plot_bar(sex, 'Percentage', title = title, xlabel = xlabel, output_file = f'Visuals/Plots/{survey}_7-relationship.png', figsize=(18, 10), rotation=0, fontsize = 14)"
   ]
  },
  {
   "cell_type": "code",
   "execution_count": null,
   "id": "ba66436e-7029-4fd6-9eee-d4207ce8cc5d",
   "metadata": {},
   "outputs": [],
   "source": [
    "survey = 'Social workers'\n",
    "order = ['Married','Engaged','Widow']\n",
    "sex = azobe.count_df(sw_df, '10', file_path, custom_order=order, index_name=f'7. relationship_{survey}')\n",
    "title = f'[{survey}] What is your relationship status?'\n",
    "xlabel = ' '\n",
    "azobe.plot_bar(sex, 'Percentage', title = title, xlabel = xlabel, output_file = f'Visuals/Plots/{survey}_7-relationship.png', figsize=(18, 10), rotation=0, fontsize = 14)"
   ]
  },
  {
   "cell_type": "code",
   "execution_count": null,
   "id": "b07612eb-8af1-4415-8be2-ba71b906a42c",
   "metadata": {},
   "outputs": [],
   "source": [
    "survey = 'CAY'\n",
    "categories = [1.0, 0.0]\n",
    "change = ['Yes', 'No']\n",
    "columns_labels = ['Physical', 'Physical illness', 'Mental health', 'Behavioural', 'Learning', 'Other', 'None of them', 'Unsure']\n",
    "occ_table = azobe.multi_table(cay_df, ['17-1','17-2','17-3','17-4','17-5','17-6','17-7','17-8'], categories = categories, file_path=file_path, change = change, column_labels = columns_labels, index_name = f'8. disability_{survey}')\n",
    "title = f'[{survey}] Do you face any difficulties?'\n",
    "azobe.top_plot(occ_table, title, output_file = f'Visuals/Plots/{survey}_8-disability.png', number = 5)"
   ]
  },
  {
   "cell_type": "code",
   "execution_count": null,
   "id": "8114ee0c-9111-4cf9-beb1-c65708ce7754",
   "metadata": {},
   "outputs": [],
   "source": [
    "survey = 'Parents and Caregivers'\n",
    "order = ['Physical disability','Physical illness','Learning difficulty','Other disability', 'None of them',\"Don't know\"]\n",
    "sex = azobe.count_df(pp_df, '14', file_path, custom_order=order, index_name=f'8. disability_{survey}')\n",
    "title = f'[{survey}] Do you face any difficulties?'\n",
    "xlabel = ' '\n",
    "azobe.plot_bar(sex, 'Percentage', title = title, xlabel = xlabel, output_file = f'Visuals/Plots/{survey}_8-disability.png', figsize=(18, 10), rotation=0, fontsize = 14)"
   ]
  },
  {
   "cell_type": "code",
   "execution_count": null,
   "id": "c6017444-aca0-4f4f-8fa2-4f599dd5e0f6",
   "metadata": {},
   "outputs": [],
   "source": [
    "survey = 'Social workers'\n",
    "categories = [1.0, 0.0]\n",
    "change = ['Yes', 'No']\n",
    "columns_labels = ['Physical', 'Physical illness', 'Mental health', 'Behavioural', 'Learning', 'Other', 'None of them', 'Unsure']\n",
    "occ_table = azobe.multi_table(sw_df, ['12-1','12-2','12-3','12-4','12-5','12-6','12-7',\"12-8\"], categories = categories, file_path=file_path, change = change, column_labels = columns_labels, index_name = f'8. disability_{survey}')\n",
    "title = f'[{survey}] Do you face any difficulties?'\n",
    "azobe.top_plot(occ_table, title, output_file = f'Visuals/Plots/{survey}_8-disability.png', number = 5)"
   ]
  },
  {
   "cell_type": "markdown",
   "id": "ff8c804d-feb5-436d-a417-5fbcfbf54eb7",
   "metadata": {},
   "source": [
    "### Young organisations"
   ]
  },
  {
   "cell_type": "code",
   "execution_count": null,
   "id": "2a6c9a29-0e0a-41b8-8008-de2d641f1bd4",
   "metadata": {},
   "outputs": [],
   "source": [
    "yo_df.groupby('s1')['1'].value_counts()"
   ]
  },
  {
   "cell_type": "code",
   "execution_count": null,
   "id": "73505fa3-7bd2-4105-9464-f284a27c64d6",
   "metadata": {},
   "outputs": [],
   "source": [
    "# Sector\n",
    "yo_df.groupby(['s1','1'])['2'].value_counts()"
   ]
  },
  {
   "cell_type": "code",
   "execution_count": null,
   "id": "ad579465-233f-49aa-9be3-88cd36ae08cb",
   "metadata": {},
   "outputs": [],
   "source": [
    "# How many members?\n",
    "bins = [-1, 9, 30, 50, 100, float('inf')]\n",
    "labels = ['less than 10', '10 to 30', '31 to 50', '51 to 100', 'More than 100']\n",
    "yo_df['5_grouped'] = pd.cut(yo_df['5'], bins=bins, labels=labels, right=True)\n",
    "grouped_counts = yo_df['5_grouped'].value_counts()\n",
    "grouped_counts"
   ]
  },
  {
   "cell_type": "code",
   "execution_count": null,
   "id": "be21983c-75e2-4e01-80a7-082e7f184cc6",
   "metadata": {},
   "outputs": [],
   "source": [
    "# How many male members\n",
    "bins = [-1, 9, 30, 50, 100, float('inf')]\n",
    "labels = ['less than 10', '10 to 30', '31 to 50', '51 to 100', 'More than 100']\n",
    "yo_df['6_grouped'] = pd.cut(yo_df['6'], bins=bins, labels=labels, right=True)\n",
    "grouped_counts = yo_df['6_grouped'].value_counts()\n",
    "grouped_counts"
   ]
  },
  {
   "cell_type": "code",
   "execution_count": null,
   "id": "c40b9756-729c-46be-90b4-6982fa296c0f",
   "metadata": {},
   "outputs": [],
   "source": [
    "# How many male members (under 18)\n",
    "bins = [-1, 9, 30, 50, 100, float('inf')]\n",
    "labels = ['less than 10', '10 to 30', '31 to 50', '51 to 100', 'More than 100']\n",
    "yo_df['7_grouped'] = pd.cut(yo_df['7'], bins=bins, labels=labels, right=True)\n",
    "grouped_counts = yo_df['7_grouped'].value_counts()\n",
    "grouped_counts"
   ]
  },
  {
   "cell_type": "code",
   "execution_count": null,
   "id": "4f81a725-a8a4-4ca8-8d99-9ceeb015a0cd",
   "metadata": {},
   "outputs": [],
   "source": [
    "# How many male members (with disability)\n",
    "bins = [-1, 9, 30, 50, 100, float('inf')]\n",
    "labels = ['less than 10', '10 to 30', '31 to 50', '51 to 100', 'More than 100']\n",
    "yo_df['8_grouped'] = pd.cut(yo_df['8'], bins=bins, labels=labels, right=True)\n",
    "grouped_counts = yo_df['8_grouped'].value_counts()\n",
    "grouped_counts"
   ]
  },
  {
   "cell_type": "code",
   "execution_count": null,
   "id": "3673e505-e644-43e1-8f59-d63a24be768c",
   "metadata": {},
   "outputs": [],
   "source": [
    "# How many male members (management or leadership positions)\n",
    "bins = [-1, 9, 30, 50, 100, float('inf')]\n",
    "labels = ['less than 10', '10 to 30', '31 to 50', '51 to 100', 'More than 100']\n",
    "yo_df['9_grouped'] = pd.cut(yo_df['9'], bins=bins, labels=labels, right=True)\n",
    "grouped_counts = yo_df['9_grouped'].value_counts()\n",
    "grouped_counts"
   ]
  },
  {
   "cell_type": "code",
   "execution_count": null,
   "id": "b7f1fb8a-b842-4286-861f-19ecafdcac8e",
   "metadata": {},
   "outputs": [],
   "source": [
    "# How many female members\n",
    "bins = [-1, 9, 30, 50, 100, float('inf')]\n",
    "labels = ['less than 10', '10 to 30', '31 to 50', '51 to 100', 'More than 100']\n",
    "yo_df['10_grouped'] = pd.cut(yo_df['10'], bins=bins, labels=labels, right=True)\n",
    "grouped_counts = yo_df['10_grouped'].value_counts()\n",
    "grouped_counts"
   ]
  },
  {
   "cell_type": "code",
   "execution_count": null,
   "id": "a69d7ccc-add1-4238-928a-064386549c29",
   "metadata": {},
   "outputs": [],
   "source": [
    "# How many female members (under 18)\n",
    "bins = [-1, 9, 30, 50, 100, float('inf')]\n",
    "labels = ['less than 10', '10 to 30', '31 to 50', '51 to 100', 'More than 100']\n",
    "yo_df['11_grouped'] = pd.cut(yo_df['11'], bins=bins, labels=labels, right=True)\n",
    "grouped_counts = yo_df['11_grouped'].value_counts()\n",
    "grouped_counts"
   ]
  },
  {
   "cell_type": "code",
   "execution_count": null,
   "id": "b01e52c7-2ab7-4fc7-9805-f04124ed30bf",
   "metadata": {},
   "outputs": [],
   "source": [
    "# How many female members (with disability)\n",
    "bins = [-1, 9, 30, 50, 100, float('inf')]\n",
    "labels = ['less than 10', '10 to 30', '31 to 50', '51 to 100', 'More than 100']\n",
    "yo_df['12_grouped'] = pd.cut(yo_df['12'], bins=bins, labels=labels, right=True)\n",
    "grouped_counts = yo_df['12_grouped'].value_counts()\n",
    "grouped_counts"
   ]
  },
  {
   "cell_type": "code",
   "execution_count": null,
   "id": "02d76333-d196-422a-b666-e80b25754afa",
   "metadata": {},
   "outputs": [],
   "source": [
    "# How many female members (management or leadership positions)\n",
    "bins = [-1, 9, 30, 50, 100, float('inf')]\n",
    "labels = ['less than 10', '10 to 30', '31 to 50', '51 to 100', 'More than 100']\n",
    "yo_df['13_grouped'] = pd.cut(yo_df['13'], bins=bins, labels=labels, right=True)\n",
    "grouped_counts = yo_df['13_grouped'].value_counts()\n",
    "grouped_counts"
   ]
  },
  {
   "cell_type": "code",
   "execution_count": null,
   "id": "2b513a6c-da7e-4d6a-976c-48b328e7674f",
   "metadata": {},
   "outputs": [],
   "source": [
    "# What is the gender of the head of the organisation?\n",
    "yo_df['14'].value_counts()"
   ]
  },
  {
   "cell_type": "code",
   "execution_count": null,
   "id": "d37b1b23-f0fd-48ff-b012-13945ad09c8b",
   "metadata": {},
   "outputs": [],
   "source": [
    "#  What is the level of the youth organisation?\n",
    "yo_df['15'].value_counts()"
   ]
  },
  {
   "cell_type": "markdown",
   "id": "0e898c02-1b26-4130-9c7d-5328296421c8",
   "metadata": {},
   "source": [
    "# Data Analysis"
   ]
  },
  {
   "cell_type": "markdown",
   "id": "a4f3e511-2b14-46c3-9e22-fc1fd11046cf",
   "metadata": {},
   "source": [
    "# LEARN\n",
    "\n",
    "- Children, Adolescents and Youths, especially girls and young women acquire education and skills needed for decent work and life"
   ]
  },
  {
   "cell_type": "markdown",
   "id": "20ed80f0-2c3f-4d6c-b7c4-df1cc5686084",
   "metadata": {},
   "source": [
    "### ECDO2.7.1: % of children (reached by the project) who have been enrolled in an Early Learning Programme (formal or non-formal)\n",
    "1) Numerator: Number of children aged 36 – 59 months whose parents report that the child is currently enrolled in an early learning programme  (At least one)\n",
    "2) Denominator: Total number of children aged 36 - 59 months resident in the households surveyed\n",
    "3) Scoring: Numerator/Denominator X 100 \n",
    "\n",
    "#### Question\n",
    "- Parents and Primary Caregivers: 16, 17, 18, 19"
   ]
  },
  {
   "cell_type": "code",
   "execution_count": null,
   "id": "500e6ea9-fe35-4e94-8964-492e17252baf",
   "metadata": {},
   "outputs": [],
   "source": [
    "azobe.ecdo271(pp_df, file_path2 ,breakdown = ['3', '1', 's1'])\n",
    "azobe.ecdo271(pp_df, file_path, breakdown = None)"
   ]
  },
  {
   "cell_type": "markdown",
   "id": "4d2f1281-df9a-4c7d-99aa-088b1a46bd07",
   "metadata": {},
   "source": [
    "### IQEI1.2.1: % of parents who enrol their children in pre-primary and primary school at the right age regardless of sex and abilities\n",
    "1) Count: # of parents and primary caregivers who meet criteria (At least one child)\n",
    "2) Percentage: # of parents and primary caregivers who meet criteria, divided by total of respondents surveyd\n",
    "3) 3-5 years old for question 20 and 6-8 years old for question 22\n",
    "\n",
    "#### Question\n",
    "- Parents and Primary Caregivers: 17&20, 21&22"
   ]
  },
  {
   "cell_type": "code",
   "execution_count": null,
   "id": "30905e3d-a9cd-4d32-8c4c-2724d3b9e222",
   "metadata": {},
   "outputs": [],
   "source": [
    "azobe.iqei121(pp_df, file_path2 ,breakdown = ['3', '1', 's1'])\n",
    "azobe.iqei121(pp_df, file_path, breakdown = None)"
   ]
  },
  {
   "cell_type": "markdown",
   "id": "359da80e-54f7-417c-a4c4-a16a8f91a23b",
   "metadata": {},
   "source": [
    "# LEAD\n",
    "\n",
    "- Children, Adolescents and Youths, especially Girls and young women are empowered to be active drivers of change on issues that matter to them"
   ]
  },
  {
   "cell_type": "markdown",
   "id": "97c6eaf4-c85d-42a5-a0f0-5fa3d2128b33",
   "metadata": {},
   "source": [
    "### LEAO1.3.2: # and quality of young people’s organisations own and joint actions\n",
    "1) Scoring: Yes - 2, Somewhat - 1, No - 0\n",
    "2) Count: The number of own and joint actions implemented by Plan’s youth partner organisations\n",
    "3) Quality: The quality rating enables to classify the actions in three categories: low (0-6), acceptable (7-10) and high quality actions (10-)\n",
    "\n",
    "#### Question (Youth Organisations)\n",
    "- 33, 34, 35, 36, 37\n",
    "- 38, 39, 40, 41, 42"
   ]
  },
  {
   "cell_type": "code",
   "execution_count": null,
   "id": "6cbeff22-98c9-4126-87c7-89027e830f03",
   "metadata": {},
   "outputs": [],
   "source": [
    "azobe.leao132(yo_df, file_path2 ,breakdown = ['3'])\n",
    "azobe.leao132(yo_df, file_path, breakdown = None)"
   ]
  },
  {
   "cell_type": "markdown",
   "id": "6af4b77d-545a-474e-b4fb-9d828e3d1c88",
   "metadata": {},
   "source": [
    "### LEAO1.1.1: % of young people who demonstrate empowerment\n",
    "1) The ratings of each questionnaire item are scored as follows: strongly disagree = 0 points; disagree = 1 point; agree = 2 points; strongly agree = 3 points\n",
    "2) the total sum of all items is calculated\n",
    "3) The sum score is divided by five to calculate the average rating. An average score of 2 or more is considered as pass\n",
    "   \n",
    "#### Items\n",
    "- rights awareness\n",
    "- assertiveness\n",
    "- self-esteem\n",
    "- relations with peers\n",
    "- relations with family\n",
    "\n",
    "#### Question\n",
    "- CAY: 21 ['21-1','21-2','21-3','21-4','21-5']"
   ]
  },
  {
   "cell_type": "code",
   "execution_count": null,
   "id": "d68cf2ab-1c75-4f30-9d46-34006b7b2351",
   "metadata": {},
   "outputs": [],
   "source": [
    "azobe.leao111(cay_df, file_path2 ,breakdown = ['4', 'Age Group', 's1'])\n",
    "azobe.leao111(cay_df, file_path, breakdown = None)"
   ]
  },
  {
   "cell_type": "markdown",
   "id": "fe1d7f0e-5b91-4764-a4cd-598d16be33dc",
   "metadata": {},
   "source": [
    "### LEAO1.1.2: % of youth organisations which demonstrate a critical understanding of their socio-cultural, economic political and legal context\n",
    "1) Scoring: Yes - 2, Somewhat - 1, No - 0 = If equal or more than 10 points -> 'Pass'\n",
    "2) Count: # of organisations who meet the criteria\n",
    "3) Percentage:# of youth organisations which score at least 10 points on the P3A-C divided by the  total # of youth organisations assessed *100\n",
    "4) Analysis: Organisational and individual questions level (Score range, average score)\n",
    "\n",
    "#### Items\n",
    "- Situational Analysis Assessment\n",
    "- Advocacy Plan Assessment\n",
    "\n",
    "#### Question (Youth Organisations)\n",
    "- 16\n",
    "- 17, 18, 19, 20, 21, 22, 23, 24, 25 (10 points)\n",
    "- 26, 27, 28, 29, 30, 31, 32 (6 points)"
   ]
  },
  {
   "cell_type": "code",
   "execution_count": null,
   "id": "ce4ccc18-9de3-41d4-946c-b5c6b5c11d24",
   "metadata": {},
   "outputs": [],
   "source": [
    "azobe.leao112(yo_df, file_path2 ,breakdown = ['3'])\n",
    "azobe.leao112(yo_df, file_path, breakdown = None)"
   ]
  },
  {
   "cell_type": "markdown",
   "id": "204e2518-eab9-4419-8bcc-f3d8686a6acf",
   "metadata": {},
   "source": [
    "### LEAO1.2.1: % of young people’s organisations whose organisational practices and structures are gender transformative, inclusive and fit for purpose.\n",
    "1) Scoring: ① The ratings of the questionnaire items are scored as follows: low capacity = 0 points;  some capacity = 1 point; solid capacity = 2 points; strong capacity = 3 points. ② The total sum of all items is calculated\n",
    "2) Count: # of organisations  who meet criteria\n",
    "3) Percentage:# of young people’s organisations which achieve a score of 18 or higher on the OCS divided by the  total # of young people’s organisations assessed *100\n",
    "\n",
    "#### Question (Youth Organisations)\n",
    "- 43, 44, 45, 46, 47, 48, 49, 50, 51, 52, 53"
   ]
  },
  {
   "cell_type": "code",
   "execution_count": null,
   "id": "c2818dc9-a33c-4b9a-ab29-d3d3330f9e17",
   "metadata": {},
   "outputs": [],
   "source": [
    "azobe.leao121(yo_df, file_path2 ,breakdown = ['3'])\n",
    "azobe.leao121(yo_df, file_path, breakdown = None)"
   ]
  },
  {
   "cell_type": "markdown",
   "id": "f1f0ed4c-8cf9-4252-93bb-fa88637c4915",
   "metadata": {},
   "source": [
    "### LEAO2.1.1: % of young people who report that their parents/caregivers support and publicly defend their engagement in decision-making processes at different levels\n",
    "1) Count: # of people who meet criteria\n",
    "2) Percentage: # of young people who rate both parents with an average score of three or higher on the CSA-Q divided by the total # of children and youth who filled out the questionnaire *100\n",
    "   \n",
    "#### Items\n",
    "- time\n",
    "- decision making\n",
    "- listening & dialogue\n",
    "- equal support\n",
    "\n",
    "#### Question\n",
    "- CAY: 22"
   ]
  },
  {
   "cell_type": "code",
   "execution_count": null,
   "id": "21aa151c-19d3-49c5-b72f-56f617bbe90a",
   "metadata": {},
   "outputs": [],
   "source": [
    "azobe.leao211(cay_df, file_path2 ,breakdown = ['4','Age Group','s1'])\n",
    "azobe.leao211(cay_df, file_path, breakdown = None)"
   ]
  },
  {
   "cell_type": "markdown",
   "id": "d217bc25-4280-4843-81b9-61192031e6d9",
   "metadata": {},
   "source": [
    "# DECIDE\n",
    "\n",
    "- Children, Adolescents and Youths, especially Girls and young women, have control over their lives and bodies"
   ]
  },
  {
   "cell_type": "markdown",
   "id": "6161e8eb-c75c-45a2-9707-44ed6096d312",
   "metadata": {},
   "source": [
    "### SRHSA1.1.4: % of women aged 20-24 years who were married or in a union a) before the age of 15, and b) before the age of 18\n",
    "1) Count: # of CAY who meet criteria (female, aged 20-24)\n",
    "2) Percentage: # of CAY who meet criteria, divided by total of respondents surveyd\n",
    "\n",
    "#### Question\n",
    "- CAY: 14"
   ]
  },
  {
   "cell_type": "code",
   "execution_count": null,
   "id": "467fcbbb-ebef-4524-b415-a862fd862361",
   "metadata": {},
   "outputs": [],
   "source": [
    "cay_df = pd.read_excel('data/Clean Data/24-PI-NG-1 CAY_cleaned.xlsx', index_col=0)\n",
    "pp_df = pd.read_excel('data/Clean Data/24-PI-NG-1 Parents and Caregivers_cleaned.xlsx', index_col=0)\n",
    "sw_df = pd.read_excel('data/Clean Data/24-PI-NG-1 Social Workers_cleaned.xlsx', index_col=0)\n",
    "yo_df = pd.read_excel('data/Clean Data/24-PI-NG-1 Youth Organisations_cleaned.xlsx', index_col=0)"
   ]
  },
  {
   "cell_type": "code",
   "execution_count": null,
   "id": "25554d03-0116-417f-b3d2-85759f8b5fdb",
   "metadata": {},
   "outputs": [],
   "source": [
    "azobe.srhi114(cay_df, file_path2 ,breakdown = ['4','Age Group','s1'])\n",
    "azobe.srhi114(cay_df, file_path, breakdown = None)"
   ]
  },
  {
   "cell_type": "markdown",
   "id": "ce42a837-137a-4581-835d-ad8d5505b528",
   "metadata": {},
   "source": [
    "### SRHI3.1.1: % of girls and women aged 15-24 years who were married; a) before the age of 15, and b) before the age of 18 years\n",
    "1) Count: # of CAY who meet criteria (female, aged 15-24)\n",
    "2) Percentage: # of CAY who meet criteria, divided by total of respondents surveyd\n",
    "\n",
    "#### Question\n",
    "- CAY: 14"
   ]
  },
  {
   "cell_type": "code",
   "execution_count": null,
   "id": "d103bbe0-a288-426a-941f-0795d7814c05",
   "metadata": {},
   "outputs": [],
   "source": [
    "azobe.srhi311(cay_df, file_path2 ,breakdown = ['4','Age Group','s1'])\n",
    "azobe.srhi311(cay_df, file_path, breakdown = None)"
   ]
  },
  {
   "cell_type": "markdown",
   "id": "a56de278-e66f-4ea8-8fae-8cbc31c64bd2",
   "metadata": {},
   "source": [
    "### SRHI1.1.1: % of sexually active young women aged 15-24 who are currently using a modern method of contraception\n",
    "1) \"yes\" for any of the methods is considering as using contraception Disaggregate by: age (15-19, 20-24), marital status.\n",
    "2) Number of currently sexually active women 15-24 using a contraceptive method / Total number of currently sexually active women 15-24)  * 100\n",
    "   \n",
    "#### Items\n",
    "- Condoms\n",
    "- Female and male sterilization\n",
    "- Injectable or oral hormones\n",
    "- Intrauterine devices\n",
    "- Diaphragms and or spermicides\n",
    "\n",
    "#### Question\n",
    "- CAY: 23, 24, 25"
   ]
  },
  {
   "cell_type": "code",
   "execution_count": null,
   "id": "8571010b-4fe0-4089-9e11-673375bf851f",
   "metadata": {},
   "outputs": [],
   "source": [
    "azobe.srhi111(cay_df, file_path2 ,breakdown = ['4', 'Age Group', 's1'])\n",
    "azobe.srhi111(cay_df, file_path, breakdown = None)"
   ]
  },
  {
   "cell_type": "markdown",
   "id": "cf42ce51-325e-464f-b790-b04e71e5fec7",
   "metadata": {},
   "source": [
    "### SRHI1.1.2: % of recent births that are reported as unintended to mothers under 20\n",
    "1) Count: # of CAY who meet criteria (female, under 20)\n",
    "2) Percentage: # of CAY who meet criteria, divided by total of respondents surveyd\n",
    "\n",
    "#### Question\n",
    "- CAY: 26, 27, 28"
   ]
  },
  {
   "cell_type": "code",
   "execution_count": null,
   "id": "7a60cbde-5d7f-4df0-b5fb-f3d062826a00",
   "metadata": {},
   "outputs": [],
   "source": [
    "azobe.srhi112(cay_df, file_path2 ,breakdown = ['4','Age Group','s1'])\n",
    "azobe.srhi112(cay_df, file_path, breakdown = None)"
   ]
  },
  {
   "cell_type": "markdown",
   "id": "2867c215-cdab-4dba-807f-ff9f6ed4844c",
   "metadata": {},
   "source": [
    "### ECDI3.2.3: % of adolescents and women with a birth in the last two years who had at least four antenatal contacts, including at least one in the last trimester, during the last pregnancy\n",
    "\n",
    "1) Just count and percentage\n",
    "2) Disaggregate by age: under 18/18-24/over 24 years.  Where relevant by location (rural/urban)\n",
    "\n",
    "#### Question\n",
    "- CAY: 29, 30, 31"
   ]
  },
  {
   "cell_type": "code",
   "execution_count": null,
   "id": "1f607c24-92fa-43dd-868b-44f27437f2e7",
   "metadata": {},
   "outputs": [],
   "source": [
    "azobe.ecdi323(cay_df, file_path2 ,breakdown = ['4','Age Group','s1'])\n",
    "azobe.ecdi323(cay_df, file_path, breakdown = None)"
   ]
  },
  {
   "cell_type": "markdown",
   "id": "3319be53-fc9a-463d-b23b-4a2da7692704",
   "metadata": {},
   "source": [
    "### ECDI3.2.4: % of adolescents and women with a live birth (in the last 2 years) who were attended by skilled health personnel during delivery\n",
    "\n",
    "1) Just count and percentage\n",
    "2) Disaggregate by age: under 18/18-24/over 24 years.  Where relevant by location (rural/urban)\n",
    "\n",
    "#### Question\n",
    "- CAY: 32"
   ]
  },
  {
   "cell_type": "code",
   "execution_count": null,
   "id": "d4dba5b5-b5bc-40a9-b55b-b702ba30f9c9",
   "metadata": {},
   "outputs": [],
   "source": [
    "azobe.ecdi324(cay_df, file_path2 ,breakdown = ['4','Age Group','s1'])\n",
    "azobe.ecdi324(cay_df, file_path, breakdown = None)"
   ]
  },
  {
   "cell_type": "markdown",
   "id": "e7279199-5999-41bc-8ffd-5221a1775688",
   "metadata": {},
   "source": [
    "### SRHO1.1.1: % of CAY with correct knowledge about SRHR core topics\n",
    "\n",
    "0) Scoring: Respondents need to answer correctly to all questions (Free response, must name 3 each from lists below)\n",
    "1) Count: # of people meet criteria  (Aged 13-24)\n",
    "2) Percentage: # people who answer correctly, divided by total # people surveyed,  * 100\n",
    "\n",
    "#### Question\n",
    "- CAY: 33, 34, 35, 36, 37, 38 | 43, 45"
   ]
  },
  {
   "cell_type": "code",
   "execution_count": null,
   "id": "2e7874b9-56a1-4cc5-b2a4-306512ceaba4",
   "metadata": {},
   "outputs": [],
   "source": [
    "azobe.srho111_separated(cay_df, file_path)\n",
    "azobe.srho111(cay_df, file_path2 ,breakdown = ['4','Age Group','s1'])\n",
    "azobe.srho111(cay_df, file_path, breakdown = None)"
   ]
  },
  {
   "cell_type": "markdown",
   "id": "253962d0-c6fc-4c2f-bfba-0ded6d33a874",
   "metadata": {},
   "source": [
    "### SRHO1.1.2 % of CAY who have at least moderate levels of knowledge about menstrual health\n",
    "0) Adolescents and youth aged 10-24\n",
    "1) Scale: 1 point per correct answer\n",
    "2) Scoring: 0-2= no knowledge, 3=basic, 4-5=moderate, 6+=high\n",
    "- No knowledge: Total # of respondents that score 0/3, divided by total number of respondents,  * 100                              \n",
    "- Basic knowledge:  Total # of respondents that score 4, divided by total number of respondents,  * 100\n",
    "- Moderate knowledge: Total #  of respondents that score 5/7, divided by total number of respondents,  * 100\n",
    "- High knowledge: Total # of respondents that score 8/11, divided by total number of respondents,  * 100\n",
    "\n",
    "#### Question\n",
    "- CAY: 50, 51, 52, 53, 54, 55, 56"
   ]
  },
  {
   "cell_type": "code",
   "execution_count": null,
   "id": "227f7fab-0539-4286-a9a6-1744afb5a917",
   "metadata": {},
   "outputs": [],
   "source": [
    "azobe.srho112(cay_df, file_path2 ,breakdown = ['4','Age Group','s1'])\n",
    "azobe.srho112(cay_df, file_path, breakdown = None)"
   ]
  },
  {
   "cell_type": "markdown",
   "id": "a5598aa8-000b-4db6-8322-c692b5c1fd15",
   "metadata": {},
   "source": [
    "### SRHO1.1.3: % of young women and men aged 15- 24 who correctly identify ways of preventing the sexual transmission of HIV and who reject major misconceptions about HIV transmission \n",
    "1) Scoring: All five questions must be correctly answered to be considered “pass”\n",
    "2) Count: # of respondents who meet criteria\n",
    "3) Percentage: # of respondents aged 15–24 years who give the correct answer to all five questions, divided by total # people surveyed, * 100\n",
    "\n",
    "#### Question\n",
    "- CAY: 39, 40, 41, 42, 44"
   ]
  },
  {
   "cell_type": "code",
   "execution_count": null,
   "id": "f32f7e37-3808-43f7-8317-943ab337e9eb",
   "metadata": {},
   "outputs": [],
   "source": [
    "azobe.srho113(cay_df, file_path2 ,breakdown = ['4','Age Group','s1'])\n",
    "azobe.srho113(cay_df, file_path, breakdown = None)"
   ]
  },
  {
   "cell_type": "markdown",
   "id": "9117ea7d-e07a-4f81-987d-ea2e5c903fd9",
   "metadata": {},
   "source": [
    "### SRHO1.2.1: % (and #) of adolescents and youth aged 15 - 24 who feel able to make informed decisions about their sexual and reproductive health\n",
    "1) Score: Respondents must answer yes to all three questions\n",
    "2) Count: # of people meet criteria\n",
    "3) Percentage: # of CAY who feels able to make informed decisions about their SRH, divided by total # people surveyed, * 100\n",
    "\n",
    "#### Question\n",
    "- CAY: 57, 58, 59"
   ]
  },
  {
   "cell_type": "code",
   "execution_count": null,
   "id": "6ae684ee-a910-4eb7-bd9e-25da136abd9a",
   "metadata": {},
   "outputs": [],
   "source": [
    "azobe.srho121(cay_df, file_path2 ,breakdown = ['4','Age Group','s1'])\n",
    "azobe.srho121(cay_df, file_path, breakdown = None)"
   ]
  },
  {
   "cell_type": "markdown",
   "id": "a2c66598-878a-4e94-86ad-d2d948be55c4",
   "metadata": {},
   "source": [
    "### SRHO1.4.1: % of adolescents and youth who say that they could get condoms\n",
    "1) Scoring: All those answering \"yes\" to question 1\n",
    "2) Count: # of people who meet criteria\n",
    "3) Percentage: # of people aged 15–24 years old who respond “yes\" to question 1,  divided by total # people surveyed, *  100\n",
    "\n",
    "#### Question\n",
    "- CAY: 46, 47"
   ]
  },
  {
   "cell_type": "code",
   "execution_count": null,
   "id": "c1205922-afa6-48b5-9878-a971c7091479",
   "metadata": {},
   "outputs": [],
   "source": [
    "azobe.srho141(cay_df, file_path2 ,breakdown = ['4','Age Group','s1'])\n",
    "azobe.srho141(cay_df, file_path, breakdown = None)"
   ]
  },
  {
   "cell_type": "markdown",
   "id": "6268ded3-2eb9-4a01-b010-081405aa1765",
   "metadata": {},
   "source": [
    "### SRHO1.4.4: % of adolescents and youth who were tested for HIV and received their results during the reporting period\n",
    "1) Scoring: To be counted, respondents must answer \"yes\" to both questions\n",
    "2) Count: # of respondents who meet criteria\n",
    "3) Percentage: # of respondents aged 15-49 who have been tested for HIV during the last 12 months and who know their results, divided by total # people surveyed, *  100\n",
    "\n",
    "#### Question\n",
    "- CAY: 48, 49"
   ]
  },
  {
   "cell_type": "code",
   "execution_count": null,
   "id": "82c73dcd-7acb-46dc-93b2-f72c50a2385e",
   "metadata": {},
   "outputs": [],
   "source": [
    "azobe.srho144(cay_df, file_path2 ,breakdown = ['4','Age Group','s1'])\n",
    "azobe.srho144(cay_df, file_path, breakdown = None)"
   ]
  },
  {
   "cell_type": "markdown",
   "id": "c6f4f5b3-e845-4272-a06b-1768ecec11c2",
   "metadata": {},
   "source": [
    "### SRHO6.2.1: % (and #) of adolescents and youth aged 15 – 24 who consider services to be adolescent and gender-responsive at the time asked\n",
    "0) Scale: Scale: a) agree, b) disagree, or c) if you neither agree nor disagree (feel neutral) \n",
    "1) Scoring: Agree = 1 point / For 64, 66 69-1, and 69-2 Agree = 0.5 point each, Disagree, neither agree nor disagree (feel neutral) = 0 point\n",
    "2) Count: # of people who meet criteria in each category\n",
    "3) Percentage: Disaggregated calculation\n",
    "- Not responsive: Total number of respondents that score (0-3/10), divided by total number of respondents, * 100 \n",
    "- Partially Responsive:  Total number of respondents that score (3.5-6.5/10), divided by total number of respondents, * 100\n",
    "- Highly responsive: Total number that score (7-10/10),divided by total number of respondents, * 100\n",
    "\n",
    "\n",
    "#### Question\n",
    "- CAY: 60, 61, 62, 63, 64, 65, 66, 67, 68, 69"
   ]
  },
  {
   "cell_type": "code",
   "execution_count": null,
   "id": "d1f7d719-72db-453d-bcc0-f9c66a146bff",
   "metadata": {},
   "outputs": [],
   "source": [
    "azobe.srho621(cay_df, file_path2 ,breakdown = ['4','Age Group','s1'])\n",
    "azobe.srho621(cay_df, file_path, breakdown = None)"
   ]
  },
  {
   "cell_type": "markdown",
   "id": "3c0c61d0-592f-46f1-ae4a-e6069410a963",
   "metadata": {},
   "source": [
    "# THRIVE\n",
    "\n",
    "- Children, Adolescents and Youths grow up cared for and are protected against all forms of violence"
   ]
  },
  {
   "cell_type": "markdown",
   "id": "eb4e568f-44ca-4d89-b0b1-33c100b3f2bf",
   "metadata": {},
   "source": [
    "### PROI1.1.1: % of children who report incidents of violence, abuse, exploitation and neglect within 12 months of program implementation\n",
    "1) Count: # of people who meet criteria in each category (Aged <= 18)\n",
    "2) Percentage: # of respondents (children) who have reported related incidents within 12 months of program implementation\n",
    "\n",
    "#### Question\n",
    "- CAY: 70, 71, 72, 73"
   ]
  },
  {
   "cell_type": "code",
   "execution_count": null,
   "id": "42b5a100-1399-4fc3-b199-2c42266726aa",
   "metadata": {},
   "outputs": [],
   "source": [
    "azobe.proi111(cay_df, file_path2 ,breakdown = ['4','Age Group','s1'])\n",
    "azobe.proi111(cay_df, file_path, breakdown = None)"
   ]
  },
  {
   "cell_type": "markdown",
   "id": "da85575c-e102-483c-83e1-04bfc4d373fc",
   "metadata": {},
   "source": [
    "### PROO5.1.1 % of social service workers who are confident in their ability to manage and respond to cases of violence against children (VAC) and intimate partner violence (IPV)\n",
    "1) Scoring: Answers are scored as follows = Not confident 0; Somewhat confident 1; Very confident task 2 |  A score of 1 or more on each question is considered a pass\n",
    "2) Count: # of respondents who meet criteria\n",
    "3) Percentage: # of staff with a score of 1 or more on each question; divided by total # of staff surveyed *100\n",
    "4) Numerator: number of social service workers who score 1 or more on each of the 20 questions\n",
    "5) Denominator: total number of social service workers surveyed\n",
    "\n",
    "#### Question\n",
    "- Social Workers: 13"
   ]
  },
  {
   "cell_type": "code",
   "execution_count": null,
   "id": "2b68df35-e0e4-412b-b990-b8e42594eaa0",
   "metadata": {},
   "outputs": [],
   "source": [
    "azobe.proo511_separated(sw_df, file_path)\n",
    "azobe.proo511(sw_df, file_path2 ,breakdown = ['3','1','s1'])\n",
    "azobe.proo511(sw_df, file_path, breakdown = None)"
   ]
  },
  {
   "cell_type": "markdown",
   "id": "b417ebbc-7af6-44d9-aada-51a4055ec27e",
   "metadata": {},
   "source": [
    "### PROO1.1.1 % of CAY who demonstrate knowledge of child protection risks and behaviours \n",
    "1) Scoring: \n",
    "- Section A: Each category (1-5) with one or more examples mentioned is given a score of 1 (up to a maximum of 5) = For section A; a score of 3 or more is considered a pass\n",
    "- Section B: each positive answer (yes) to a question is given a score of 1\n",
    "- Section C: yes to the question is given a score of 1.\n",
    "- For the total across sections B and C ( questions 6-12), a score of 4 is considered a pass.\n",
    "- The respondent must pass both section A, AND sections B and C to be counted in the numerator. (10 - 24 years old)\n",
    "2) Count: # of respondents who meet criteria\n",
    "3) Percentage: (Number of CAY who have BOTH a score of a 3 or more in part A, AND a score of 4 or more across parts B and C) divided by Total number of CAY (aged 10-24) surveyed * 100 You can further disaggregate the data according to the two topics explored\n",
    "\n",
    "#### Question (CAY)\n",
    "- A (Main types of violence): 74\n",
    "- B (Protecting themselves against violence): 75, 76, 77, 78, 79, 80, 81, 82, 83, 84, 85 ,86\n",
    "- C (Talking about feelings): 87, 88"
   ]
  },
  {
   "cell_type": "code",
   "execution_count": null,
   "id": "e660ca2e-0219-4cca-8298-1dc6042ad787",
   "metadata": {},
   "outputs": [],
   "source": [
    "azobe.proo111(cay_df, file_path2 ,breakdown = ['4','Age Group','s1'])\n",
    "azobe.proo111(cay_df, file_path, breakdown = None)"
   ]
  },
  {
   "cell_type": "markdown",
   "id": "c8de6ce6-3e5c-4391-bb38-6b13635b2bba",
   "metadata": {},
   "source": [
    "### PROO1.4.1: % of CAY who report that they are confident to report a protection violation to a reporting structure\n",
    "1) Count: # of CAY who meet criteria (All yes for questions 89, 91, 93, 95)\n",
    "2) Percentage: # of CAY who meet criteria, divided by total # of CAY surveyed\n",
    "\n",
    "#### Question\n",
    "- CAY: 89, 90, 91, 92, 93, 94, 95, 96"
   ]
  },
  {
   "cell_type": "code",
   "execution_count": null,
   "id": "41780a80-f8a8-458e-b95b-d4908beb2fc2",
   "metadata": {},
   "outputs": [],
   "source": [
    "azobe.proo141(cay_df, file_path2 ,breakdown = ['4','Age Group','s1'])\n",
    "azobe.proo141(cay_df, file_path, breakdown = None)"
   ]
  },
  {
   "cell_type": "markdown",
   "id": "fe28addd-ca29-4579-9b65-1713e7626e9c",
   "metadata": {},
   "source": [
    "### PROO1.4.2: % of CAY who report understanding where to get information and services before, during and after crises\n",
    "1) Count: # of CAY who meet criteria (Children, Adolescents and youth aged 10-24 -> Yes for both 97 and 99)\n",
    "2) Percentage: # of CAY who have achieved a minimum score, divided by total # of CAY surveyed\n",
    "\n",
    "#### Question\n",
    "- CAY: 97, 98, 99, 100"
   ]
  },
  {
   "cell_type": "code",
   "execution_count": null,
   "id": "0a738942-2425-44a1-ae77-c1505062c5a5",
   "metadata": {},
   "outputs": [],
   "source": [
    "azobe.proo142(cay_df, file_path2 ,breakdown = ['4','Age Group','s1'])\n",
    "azobe.proo142(cay_df, file_path, breakdown = None)"
   ]
  },
  {
   "cell_type": "markdown",
   "id": "0942690e-c5a0-4da1-b130-bed5f4378879",
   "metadata": {},
   "source": [
    "### PROO2.1.1: % of parents and caregivers who report using positive parenting practices with children\n",
    "1) Count: # of parents and primary caregivers who meet criteria (Mean of all questions: 0-1: Not positive, 1-2: Somewhat positive, 2-3: Positive)\n",
    "2) Percentage: # of parents and primary caregivers who meet criteria, divided by total of respondents surveyd\n",
    "3) Scoring\n",
    "- Always happens - 3, Often - 2, Sometimes - 1, Almost never - 0, It never happens - 0\n",
    "- Strongly agree - 3, Somewhat agree - 2, Neither agree nor disagree - 1, Somewhat disagree - 0, Strongly Disagree - 0\n",
    "\n",
    "#### Question\n",
    "- Parents and Primary Caregivers: 23, 24, 25"
   ]
  },
  {
   "cell_type": "code",
   "execution_count": null,
   "id": "de8141c0-ebb5-4317-a73d-9aff1b2b6665",
   "metadata": {},
   "outputs": [],
   "source": [
    "azobe.proo211(pp_df, file_path2 ,breakdown = ['3', '1', 's1'])\n",
    "azobe.proo211(pp_df, file_path, breakdown = None)"
   ]
  },
  {
   "cell_type": "markdown",
   "id": "e50ae79b-7a2b-4e25-98ac-88ac2682790b",
   "metadata": {},
   "source": [
    "### PROO2.2.5: % of parents and caregivers who report that they know the major protection risks their children face including in a crisis-affected context\n",
    "1) Count: # of respondents who meet criteria\n",
    "2) Percentage: # of parents/caregivers who spontaneously describe at least 50% of the major protection risks in their camp/community following an emergency, divided by total # of parents/caregivers surveyed *100\n",
    "3) Both overall and each criteria analysis\n",
    "\n",
    "#### Question\n",
    "- Parents and Primary Caregivers: 26, 27"
   ]
  },
  {
   "cell_type": "code",
   "execution_count": null,
   "id": "39fd0772-dc4b-422a-bb43-479a7cb55273",
   "metadata": {},
   "outputs": [],
   "source": [
    "azobe.proo225(pp_df, file_path2 ,breakdown = ['3', '1', 's1'])\n",
    "azobe.proo225(pp_df, file_path, breakdown = None)"
   ]
  },
  {
   "cell_type": "markdown",
   "id": "b7905aac-fca7-482f-9b0b-829cfc15832a",
   "metadata": {},
   "source": [
    "### ECDO2.5.3: % of people who know what are good Infant and Young Child Feeding practices\n",
    "1) Numerator: People that can spontaneously recall at least three Infant and Young Child Feeding practices\n",
    "2) Denominator: Total number of people surveyed\n",
    "3) Scoring: Numerator/Denominator X 100 \n",
    "4) Analysis: When analysing the information, identify the frequency of responses for each of the different practices to identify whether there are any practices which will potentially need more attention in your programme.\n",
    "\n",
    "#### Question\n",
    "- Parents and Primary Caregivers: 28, 29\n",
    "- Social workers: 14, 15"
   ]
  },
  {
   "cell_type": "code",
   "execution_count": null,
   "id": "880a273e-9f14-4b9b-b3c8-6aa8e315c14a",
   "metadata": {},
   "outputs": [],
   "source": [
    "azobe.ecdo253_parents(pp_df, file_path2 ,breakdown = ['3', '1', 's1'])\n",
    "azobe.ecdo253_parents(pp_df, file_path, breakdown = None)\n",
    "azobe.ecdo253_social(sw_df, file_path2 ,breakdown = ['3', '1', 's1'])\n",
    "azobe.ecdo253_social(sw_df, file_path, breakdown = None)"
   ]
  },
  {
   "cell_type": "markdown",
   "id": "a0f87fc1-a7a6-4598-b0cd-147803e113ff",
   "metadata": {},
   "source": [
    "### ECDO2.5.9: % of parents/caregivers who report that their infants aged under 6 months were fed exclusively with breast milk in the past 24 hours\n",
    "1) Numerator: # of respondents who report that their infants aged under 6 months were fed exclusively with breast milk in the past 24 hours\n",
    "2) Denominator: Total number of respondents who have an infant aged under six months. Exclude from the denominator infants whose parent/caregiver does not know what liquids or foods they received the previous day\n",
    "3) Scoring: Numerator/Denominator X 100 \n",
    "\n",
    "#### Question\n",
    "- Parents and Primary Caregivers: 30, 31"
   ]
  },
  {
   "cell_type": "code",
   "execution_count": null,
   "id": "a964b74b-3c3b-418a-873e-b6076907d50d",
   "metadata": {},
   "outputs": [],
   "source": [
    "azobe.ecdo259(pp_df, file_path2 ,breakdown = ['3', '1', 's1'])\n",
    "azobe.ecdo259(pp_df, file_path, breakdown = None)"
   ]
  },
  {
   "cell_type": "markdown",
   "id": "45270e57-7071-40a7-aac3-4313d19aadca",
   "metadata": {},
   "source": [
    "### ECDO2.5.10: % of infants aged 6 to 8 months of age who received solid, semi-solid or soft foods during the previous day or night\n",
    "1) Numerator: Number of breastfed/non-breastfed children aged 6 – 8 months who received solid, semi-solid or soft foods in the previous 24 hours (At least one child)\n",
    "2) Denominator: Total number of children aged 6 – 8 months of parents surveyed\n",
    "3) Scoring: Numerator/Denominator X 100 \n",
    "\n",
    "#### Question\n",
    "- Parents and Primary Caregivers: 32, 33, 34"
   ]
  },
  {
   "cell_type": "code",
   "execution_count": null,
   "id": "59bc0bd2-5474-4df0-b554-a31569df6105",
   "metadata": {},
   "outputs": [],
   "source": [
    "azobe.ecdo2510(pp_df, file_path2 ,breakdown = ['3', '1', 's1'])\n",
    "azobe.ecdo2510(pp_df, file_path, breakdown = None)"
   ]
  },
  {
   "cell_type": "markdown",
   "id": "4bbc6409-fe52-4b5b-8389-a4183b1d29d0",
   "metadata": {},
   "source": [
    "### ECDO2.5.12: % of households, that are verified as using at least basic sanitation and hygiene facilities\n",
    "1) Count: # of people meet criteria\n",
    "2) Percentage: # of people who meet criteria, divided by total # people surveyed, * 100\n",
    "\n",
    "#### Question\n",
    "- Parents and Primary Caregivers: 35"
   ]
  },
  {
   "cell_type": "code",
   "execution_count": null,
   "id": "7abd0426-1a16-4c7a-ae20-c461dfac7449",
   "metadata": {},
   "outputs": [],
   "source": [
    "azobe.ecdo2512(pp_df, file_path2 ,breakdown = ['3', '1', 's1'])\n",
    "azobe.ecdo2512(pp_df, file_path, breakdown = None)"
   ]
  },
  {
   "cell_type": "markdown",
   "id": "bfb06c44-1148-481c-afa5-254c9854c0b0",
   "metadata": {},
   "source": [
    "### ECDO2.5.14: % of households where people drink water from a protected or treated water source\n",
    "1) Numerator: Total number of households where people drink only water that is from a protected source or that has been adequately treated, based on caregiver reports and observation\n",
    "2) Denominator: Total number of households surveyed/observed\n",
    "3) Scoring: Numerator/Denominator X 100 \n",
    "\n",
    "#### Question\n",
    "- Parents and Primary Caregivers: 36, 37, 38"
   ]
  },
  {
   "cell_type": "code",
   "execution_count": null,
   "id": "a016f440-e0e9-4d9e-8322-253600363c77",
   "metadata": {},
   "outputs": [],
   "source": [
    "azobe.ecdo2514(pp_df, file_path2 ,breakdown = ['3', '1', 's1'])\n",
    "azobe.ecdo2514(pp_df, file_path, breakdown = None)"
   ]
  },
  {
   "cell_type": "markdown",
   "id": "7f813987-e41e-4366-a069-41fad9546796",
   "metadata": {},
   "source": [
    "### SDG 16.2.1: Percentage of children aged 1-17 years who experienced any physical and/or psychological aggression by caregivers in the past month\n",
    "\n",
    "1) Count: # of people who meet criteria in each category (Aged 1 to 17 years old)\n",
    "2) Percentage: # of respondents (children) who have reported any related incidents in the past 3 months\n",
    "\n",
    "#### Question\n",
    "- CAY: 70, 71, 72, 73"
   ]
  },
  {
   "cell_type": "code",
   "execution_count": null,
   "id": "97bfa82f-8f1d-4c80-89b9-47c8afc36c16",
   "metadata": {},
   "outputs": [],
   "source": [
    "azobe.sdg1621(cay_df, file_path2 ,breakdown = ['4','Age Group','s1'])\n",
    "azobe.sdg1621(cay_df, file_path, breakdown = None)"
   ]
  },
  {
   "cell_type": "code",
   "execution_count": null,
   "id": "4deec5c4-d516-488d-ab58-9b518bb2191e",
   "metadata": {},
   "outputs": [],
   "source": []
  },
  {
   "cell_type": "code",
   "execution_count": null,
   "id": "6f394cec-896a-481d-82e4-344dfd623a1b",
   "metadata": {},
   "outputs": [],
   "source": []
  }
 ],
 "metadata": {
  "kernelspec": {
   "display_name": "Python 3 (ipykernel)",
   "language": "python",
   "name": "python3"
  },
  "language_info": {
   "codemirror_mode": {
    "name": "ipython",
    "version": 3
   },
   "file_extension": ".py",
   "mimetype": "text/x-python",
   "name": "python",
   "nbconvert_exporter": "python",
   "pygments_lexer": "ipython3",
   "version": "3.11.7"
  }
 },
 "nbformat": 4,
 "nbformat_minor": 5
}
