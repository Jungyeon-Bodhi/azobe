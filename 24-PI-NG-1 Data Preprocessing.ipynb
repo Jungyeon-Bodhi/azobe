{
 "cells": [
  {
   "cell_type": "code",
   "execution_count": 37,
   "id": "d076588f-70ca-46b5-9f76-5a0b02e0c0ce",
   "metadata": {},
   "outputs": [],
   "source": [
    "import pandas as pd\n",
    "import numpy as np\n",
    "import uuid"
   ]
  },
  {
   "cell_type": "code",
   "execution_count": 38,
   "id": "e52400a2-da30-4139-9a6b-8fadd79cac5d",
   "metadata": {},
   "outputs": [],
   "source": [
    "def delete_columns(df, list_cols):\n",
    "    df = df.drop(columns = list_cols)\n",
    "    return df\n",
    "\n",
    "def date_filter(df, date):\n",
    "    filtered_df = df[df['today'] != date]\n",
    "    return filtered_df\n",
    "\n",
    "def missing_value_clean(df, miss_col):\n",
    "    for col in miss_col:\n",
    "        missing_count = df[col].isnull().sum()\n",
    "        print(f'Column {col} has {missing_count} missing values')\n",
    "        \n",
    "    total_missing = df[miss_col].isnull().sum().sum()\n",
    "    print(f'Total missing values in specified columns: {total_missing}')\n",
    "    print(\"\")\n",
    "    df_cleaned = df.dropna(subset=miss_col)\n",
    "    return df_cleaned\n",
    "\n",
    "\n",
    "def save_data(df, name):\n",
    "    df.reset_index(drop=True, inplace = True)\n",
    "    df.to_excel(f'data/Clean Data/24-PI-NG-1 {name}_cleaned.xlsx')"
   ]
  },
  {
   "cell_type": "code",
   "execution_count": 39,
   "id": "3b51b788-9927-4c5e-ac07-01bded84a0ca",
   "metadata": {},
   "outputs": [],
   "source": [
    "cay_df = pd.read_excel('data/Raw Data/24-PI-NG-1 CAY.xlsx')\n",
    "pp_df = pd.read_excel('data/Raw Data/24-PI-NG-1 Parents and Caregivers.xlsx')\n",
    "sw_df = pd.read_excel('data/Raw Data/24-PI-NG-1 Social_workers.xlsx')\n",
    "yo_df = pd.read_excel('data/Raw Data/24-PI-NG-1 Youth_Organisations.xlsx')"
   ]
  },
  {
   "cell_type": "code",
   "execution_count": 40,
   "id": "fe659104-2587-4e5f-b4b3-e1e5e20b53d1",
   "metadata": {},
   "outputs": [],
   "source": [
    "def generate_unique_strings(prefix, series):\n",
    "    unique_values = series.unique()\n",
    "    key_mapping = {value: f\"{prefix}{uuid.uuid4()}\" for value in unique_values}\n",
    "    return series.map(key_mapping), key_mapping\n",
    "\n",
    "cay_df['Respondent Name'], respondent_mapping = generate_unique_strings('respondent_', cay_df['Respondent Name'])\n",
    "sw_df['Respondent Name'], respondent_mapping = generate_unique_strings('respondent_', sw_df['Respondent Name'])\n",
    "pp_df['Respondent Name'], respondent_mapping = generate_unique_strings('respondent_', pp_df['Respondent Name'])\n",
    "yo_df['4. Respondent Name'], respondent_mapping = generate_unique_strings('respondent_', yo_df['4. Respondent Name'])"
   ]
  },
  {
   "cell_type": "code",
   "execution_count": 41,
   "id": "3d936b5b-41c0-4666-9559-bbea29c31626",
   "metadata": {},
   "outputs": [],
   "source": [
    "cay_df.to_excel('data/Raw Data/24-PI-NG-1 CAY_anonymised.xlsx')\n",
    "sw_df.to_excel('data/Raw Data/24-PI-NG-1 Social_workers_anonymised.xlsx')\n",
    "pp_df.to_excel('data/Raw Data/24-PI-NG-1 Parents and Caregivers_anonymised.xlsx')\n",
    "yo_df.to_excel('data/Raw Data/24-PI-NG-1 Youth_Organisations_anonymised.xlsx')"
   ]
  },
  {
   "cell_type": "code",
   "execution_count": 42,
   "id": "31cee531-88f0-4b1d-a860-5a518e9843e4",
   "metadata": {},
   "outputs": [
    {
     "name": "stdout",
     "output_type": "stream",
     "text": [
      "Initial Data points of CAY: 942\n",
      "Initial Data points of Parents and Caregivers: 253\n",
      "Initial Data points of Social workers: 160\n",
      "Initial Data points of Youth Organisations: 52\n"
     ]
    }
   ],
   "source": [
    "cay_df = date_filter(cay_df, '2024-07-23')\n",
    "cay_df = date_filter(cay_df, '2024-07-22')\n",
    "cay_df = date_filter(cay_df, '2024-07-18')\n",
    "print(f'Initial Data points of CAY: {len(cay_df)}')\n",
    "\n",
    "pp_df = date_filter(pp_df, '2024-07-23')\n",
    "pp_df = date_filter(pp_df, '2024-07-22')\n",
    "print(f'Initial Data points of Parents and Caregivers: {len(pp_df)}')\n",
    "\n",
    "sw_df = date_filter(sw_df, '2024-07-23')\n",
    "sw_df = date_filter(sw_df, '2024-07-22')\n",
    "print(f'Initial Data points of Social workers: {len(sw_df)}')\n",
    "\n",
    "yo_df = date_filter(yo_df, '2024-07-23')\n",
    "yo_df = date_filter(yo_df, '2024-07-22')\n",
    "print(f'Initial Data points of Youth Organisations: {len(yo_df)}')"
   ]
  },
  {
   "cell_type": "code",
   "execution_count": 43,
   "id": "8a35d1d8-07ed-4cc5-86a9-72c339c9da7b",
   "metadata": {},
   "outputs": [
    {
     "data": {
      "text/plain": [
       "today\n",
       "2024-07-24    63\n",
       "2024-07-26    59\n",
       "2024-07-25    33\n",
       "2024-07-30    14\n",
       "2024-07-27    13\n",
       "2024-08-02    11\n",
       "2024-08-08    11\n",
       "2024-07-31    10\n",
       "2024-07-29     9\n",
       "2024-08-01     8\n",
       "2024-08-06     5\n",
       "2024-08-03     4\n",
       "2024-08-04     4\n",
       "2024-08-05     3\n",
       "2024-08-09     3\n",
       "2024-08-07     2\n",
       "2024-07-28     1\n",
       "Name: count, dtype: int64"
      ]
     },
     "execution_count": 43,
     "metadata": {},
     "output_type": "execute_result"
    }
   ],
   "source": [
    "pp_df['today'].value_counts()"
   ]
  },
  {
   "cell_type": "code",
   "execution_count": 44,
   "id": "6ef220b7-a3c8-4500-8595-ff0c43bc1850",
   "metadata": {},
   "outputs": [],
   "source": [
    "cay_col = ['start',\n",
    " 'end','start-geopoint','_start-geopoint_latitude','_start-geopoint_longitude','_start-geopoint_altitude','_start-geopoint_precision',\n",
    " 'today','deviceid','s1','s2','s3-0','s3-1','s3-2','s3-3','s3-4','s3-5','s3-6','s3-7','s3-8','s3-9','s3-10',\n",
    " 's3-11','s4','s6','s7', 's8','s9',\n",
    " '1.name','2','3','4','5','6','7','8','9-all','9-1','9-2','9-3','9-4','9-5','9-6','9-7','9-o',\n",
    " '10-os','11','11-os','12','13','14','15', '16-all', '16-1','16-2','16-3','16-4','16-5','16-6','16-7','16-8','16-os',\n",
    " '17-all','17-1','17-2','17-3','17-4','17-5','17-6','17-7',\"17-8\",'17-os','18-all','18-1','18-2','18-3','18-4','18-5','18-6','18-7',\n",
    " \"18-8\",'18-os','19','20','21-1','21-2','21-3','21-4','21-5','22-1','22-2','22-3','22-4','23','24','25-1','25-2','25-3','25-4','25-5',\n",
    " '25-o','25-os','26','27','28-A-1','28-B-1','28-A-2','28-B-2','28-A-3','28-B-3','29','30','31','32','33',\n",
    " '34-all','34-1','34-2','34-3','34-4','34-5','34-6','34-7','34-8','34-o','34-os','35','36-all','36-1','36-2','36-3','36-4','36-5',\n",
    " '36-6','36-7','36-8','36-o','36-os','37','38-all','38-1','38-2','38-3','38-4','38-5','38-6','38-7','38-8','38-9','38-o','38-os',\n",
    " '39','40','41','42','43','44','45','46','47-all',\"47-1\",'47-2','47-3','47-4','47-5','47-6','47-7','47-8','47-o','47-os',\n",
    " '48','49','50','51','52','53','54','55','56','57','58-1','58-2','59-1','59-2','60','61','62','63','64','65','66','67','68',\n",
    " '69-1','69-2','70','71','72','73','74-all','74-1','74-2','74-3','74-4','74-5','74-6','74-o','74-os',\n",
    " '75','76','77','78-1',\"78-2\",'79','80',\n",
    " '81', '82','83', '84-all', '84-1','84-2','84-3','84-4','84-5','84-6','84-7','84-o','84-os','85','86','87','88','89',\n",
    " '90-all','90-1','90-2','90-3','90-4','90-5','90-6','90-7','90-o','90-os',\n",
    " '91','92-all','92-1','92-2','92-3','92-4','92-5','92-6','92-7','92-8','92-o','92-9','92-os','93','94-all','94-1','94-2',\n",
    " '94-3','94-4','94-5','94-6','94-7','94-8','94-o','94-9','94-os',\n",
    " '95','96-all','96-1','96-2','96-3','96-4','96-5','96-6','96-7','96-8','96-o','96-9','96-os','97','98','99','100',\n",
    " '1-old', '4-old','5-old','2-old','3-old','17-old','18-old','_id','_uuid','_submission_time',\n",
    " '_validation_status','_notes','_status','_submitted_by','__version__','_tags','_index']\n",
    "\n",
    "cay_del_col = ['start','s6','s7', 's8','s9','1.name',\n",
    " 'end','start-geopoint','_start-geopoint_latitude','_start-geopoint_longitude','_start-geopoint_altitude','_start-geopoint_precision',\n",
    " 'today','deviceid','9-all','16-all','17-all','18-all','34-all','36-all','38-all','47-all','74-all','84-all','90-all','92-all','94-all',\n",
    " '96-all','1-old', '4-old','5-old','2-old','3-old','17-old','18-old','_id','_uuid','_submission_time',\n",
    " '_validation_status','_notes','_status','_submitted_by','__version__','_tags','_index','s3-0','s3-1','s3-2','s3-3','s3-4','s3-5','s3-6','s3-7','s3-8','s3-9','s3-10',\n",
    " 's3-11']\n",
    "\n",
    "cay_miss_col = ['s2','2','4','21-1','21-2','21-3','21-4','21-5','23', '33','35','39','40','41','42','43',\n",
    "               '46', '48', '56', '57', '60', '70','74-1','75', '81', '83','89','97']"
   ]
  },
  {
   "cell_type": "code",
   "execution_count": 45,
   "id": "debf521f-b868-4705-bee4-9e2d571cda51",
   "metadata": {},
   "outputs": [],
   "source": [
    "pp_col = ['start','end','start-geopoint','_start-geopoint_latitude','_start-geopoint_longitude','_start-geopoint_altitude',\n",
    " '_start-geopoint_precision','today','deviceid',\n",
    " 's1','s2','s3-0','s3-1','s3-2','s3-3','s3-4','s3-5','s3-6','s3-7','s3-8','s3-9','s3-10','s3-11','s4','s6','s7','s8','s9',\n",
    " '0-name','1','2','3','4','5','6','7','8-all','8-1','8-2','8-3','8-4','8-5','8-6','8-7','8-o','8-os',\n",
    " '9','9-os','10','11','12','13','14','15','16-I','17-I','18-I','19-I','20-I','21-I','22-I','16-II','17-II','18-II','19-II','20-II',\n",
    " '21-II','22-II','23-1','23-2','23-3','23-4','23-5','23-6','23-7','23-8','23-9','23-10','23-11','23-12','23-13','23-14','23-15','23-16',\n",
    " '23-17','24-1','24-2','24-3','25','25-1','26','27-all','27-1','27-2','27-3','27-4','27-o','27-os',\n",
    " '28','29-all','29-1','29-2','29-3','29-4','29-5','29-6','29-7','29-8','30','31-1','31-2','31-3','31-4','31-5','31-6',\n",
    " '31-7','31-8','31-9','31-10','31-11','32',\"33-I\",\"34-I-1\",'34-I-2','34-I-2-os',\"33-II\",\"34-II-1\",'34-II-2','34-II-2-os',\"33-III\",\n",
    " \"34-III-1\",'34-III-2','34-III-2-os','35-I-all','35-I-1','35-I-2','35-I-3','35-I-4','35-I-5','35-II-all','35-II-1','35-II-2',\n",
    " '35-II-3','35-II-4','35-II-5','36-all','36-1','36-2','36-3','36-4','36-5','36-6','36-7','36-8','36-9','36-o','36-os',\n",
    " '37-all','37-1','37-2','37-3','37-4','37-5','37-6','37-7','37-8','37-9','37-o','37-os','38','1-old','4-old','5-old','2-old','3-old',\n",
    " '_id','_uuid','_submission_time','_validation_status','_notes','_status','_submitted_by','__version__','_tags','_index']\n",
    "\n",
    "pp_del_col = ['s6','s7','s8','s9','0-name','start','end','start-geopoint','_start-geopoint_latitude','_start-geopoint_longitude','_start-geopoint_altitude',\n",
    " '_start-geopoint_precision','today','deviceid','8-all','27-all','29-all',\n",
    " '35-I-all','35-II-all','36-all','37-all','1-old','4-old','5-old','2-old','3-old',\n",
    " '_id','_uuid','_submission_time','_validation_status','_notes','_status','_submitted_by','__version__','_tags','_index','s3-0','s3-1','s3-2','s3-3','s3-4','s3-5','s3-6','s3-7','s3-8','s3-9','s3-10',\n",
    " 's3-11']\n",
    "\n",
    "pp_miss_col = ['s2','1','3','4','14', '15', '24-1','25','26', '30', '32']"
   ]
  },
  {
   "cell_type": "code",
   "execution_count": 46,
   "id": "479f770e-5857-4907-9b7a-ea4d2b4124ec",
   "metadata": {},
   "outputs": [],
   "source": [
    "sw_col = ['start','end','start-geopoint','_start-geopoint_latitude','_start-geopoint_longitude','_start-geopoint_altitude','_start-geopoint_precision',\n",
    " 'today','deviceid',\n",
    " 's1','s2','s3-0','s3-1','s3-2','s3-3','s3-4','s3-5','s3-6','s3-7','s3-8','s3-9','s3-10','s3-11','s4','s6','s7','s8','s9',\n",
    " '0.name','1','2','3','4','5','6','7','8-all','8-1','8-2','8-3','8-4','8-5','8-6','8-7','8-o','8-os','9','9-os',\n",
    " '10','11','12-all','12-1','12-2','12-3','12-4','12-5','12-6','12-7',\"12-8\",\n",
    " '13-1a','13-1b','13-1c','13-2a','13-2b','13-2c','13-3a','13-3b','13-4a','13-4b','13-4c','13-5a','13-5b','13-5c',\n",
    " '13-6a','13-6b','13-6c','13-7a','13-7b','13-7c','14','15-all','15-1','15-2','15-3','15-4','15-5','15-6',\n",
    " '1-old','4-old','5-old','2-old','3-old','12-old','_id','_uuid','_submission_time','_validation_status','_notes',\n",
    " '_status','_submitted_by','__version__','_tags','_index']\n",
    "\n",
    "sw_del_col = ['s6','s7','s8','s9','0.name','start','end','start-geopoint','_start-geopoint_latitude','_start-geopoint_longitude','_start-geopoint_altitude','_start-geopoint_precision',\n",
    " 'today','deviceid','8-all','12-all','15-all','1-old','4-old','5-old','2-old','3-old','12-old','_id','_uuid','_submission_time',\n",
    " '_validation_status','_notes','_status','_submitted_by','__version__','_tags','_index','s3-0','s3-1','s3-2','s3-3','s3-4','s3-5','s3-6','s3-7','s3-8','s3-9','s3-10',\n",
    " 's3-11']\n",
    "\n",
    "sw_miss_col = ['s2','1','3','10','11','13-1a','13-1b','13-1c','13-2a','13-2b','13-2c','13-3a','13-3b','13-4a','13-4b','13-4c','13-5a','13-5b','13-5c',\n",
    " '13-6a','13-6b','13-6c','13-7a','13-7b','13-7c','14']"
   ]
  },
  {
   "cell_type": "code",
   "execution_count": 47,
   "id": "d54d6203-57be-4c60-bda1-540c54263827",
   "metadata": {},
   "outputs": [],
   "source": [
    "yo_col = ['start','end','today','deviceid', 's1','s2','s3-0','s3-1','s3-2','s3-3','s3-4','s3-5','s3-6','s3-7','s3-8','s3-9','s3-10',\n",
    " 's3-11','s4','s5','s6','s7','s8','s9','s10',\n",
    " '1','2','3','4','5','6','7','8','9','10','11','12','13','14','15','16','17','17-ys','18','18-ys','19','19-ys',\n",
    " '20','20-ys','21','21-ys','22','22-ys','23','23-ys','24','24-ys','25','25-ys','26','26-ys','27',\n",
    " '27-os','28','28-os','29','29-os','30','30-os','31','32','33','34','35','36','36-os','37','38-a','38-b','38-c','39-a',\n",
    " '39-b','40-a','40-b','41-a','41-b','42-a','42-b','43','44','45','46','47','48','49','50','51','52','53','1-old',\n",
    "  '_id','_uuid','_submission_time','_validation_status','_notes','_status','_submitted_by', '__version__','_tags','_index']\n",
    "\n",
    "yo_del_col = ['s3-0','s3-1','s3-2','s3-3','s3-4','s3-5','s3-6','s3-7','s3-8','s3-9','s3-10',\n",
    " 's3-11','s5','s6','s7','s8','s9','s10','s4','start','end','today','deviceid','1-old',\n",
    "  '_id','_uuid','_submission_time','_validation_status','_notes','_status','_submitted_by', '__version__','_tags','_index','s3-0','s3-1','s3-2','s3-3','s3-4','s3-5','s3-6','s3-7','s3-8','s3-9','s3-10',\n",
    " 's3-11']\n",
    "\n",
    "yo_miss_col = ['s2','1','5','10','14','16','33','43']"
   ]
  },
  {
   "cell_type": "code",
   "execution_count": 48,
   "id": "3b588ea7-b8c7-4141-bf54-064625d9daa4",
   "metadata": {},
   "outputs": [
    {
     "name": "stdout",
     "output_type": "stream",
     "text": [
      "Column s2 has 0 missing values\n",
      "Column 2 has 0 missing values\n",
      "Column 4 has 0 missing values\n",
      "Column 21-1 has 0 missing values\n",
      "Column 21-2 has 0 missing values\n",
      "Column 21-3 has 0 missing values\n",
      "Column 21-4 has 0 missing values\n",
      "Column 21-5 has 0 missing values\n",
      "Column 23 has 0 missing values\n",
      "Column 33 has 0 missing values\n",
      "Column 35 has 0 missing values\n",
      "Column 39 has 0 missing values\n",
      "Column 40 has 0 missing values\n",
      "Column 41 has 0 missing values\n",
      "Column 42 has 0 missing values\n",
      "Column 43 has 0 missing values\n",
      "Column 46 has 0 missing values\n",
      "Column 48 has 0 missing values\n",
      "Column 56 has 0 missing values\n",
      "Column 57 has 0 missing values\n",
      "Column 60 has 0 missing values\n",
      "Column 70 has 0 missing values\n",
      "Column 74-1 has 0 missing values\n",
      "Column 75 has 0 missing values\n",
      "Column 81 has 0 missing values\n",
      "Column 83 has 0 missing values\n",
      "Column 89 has 0 missing values\n",
      "Column 97 has 0 missing values\n",
      "Total missing values in specified columns: 0\n",
      "\n",
      "Column s2 has 0 missing values\n",
      "Column 1 has 0 missing values\n",
      "Column 3 has 0 missing values\n",
      "Column 4 has 0 missing values\n",
      "Column 14 has 0 missing values\n",
      "Column 15 has 0 missing values\n",
      "Column 24-1 has 0 missing values\n",
      "Column 25 has 0 missing values\n",
      "Column 26 has 0 missing values\n",
      "Column 30 has 0 missing values\n",
      "Column 32 has 1 missing values\n",
      "Total missing values in specified columns: 1\n",
      "\n",
      "Column s2 has 0 missing values\n",
      "Column 1 has 0 missing values\n",
      "Column 3 has 0 missing values\n",
      "Column 10 has 0 missing values\n",
      "Column 11 has 0 missing values\n",
      "Column 13-1a has 0 missing values\n",
      "Column 13-1b has 0 missing values\n",
      "Column 13-1c has 0 missing values\n",
      "Column 13-2a has 0 missing values\n",
      "Column 13-2b has 0 missing values\n",
      "Column 13-2c has 0 missing values\n",
      "Column 13-3a has 0 missing values\n",
      "Column 13-3b has 0 missing values\n",
      "Column 13-4a has 0 missing values\n",
      "Column 13-4b has 0 missing values\n",
      "Column 13-4c has 0 missing values\n",
      "Column 13-5a has 0 missing values\n",
      "Column 13-5b has 0 missing values\n",
      "Column 13-5c has 0 missing values\n",
      "Column 13-6a has 0 missing values\n",
      "Column 13-6b has 0 missing values\n",
      "Column 13-6c has 0 missing values\n",
      "Column 13-7a has 0 missing values\n",
      "Column 13-7b has 0 missing values\n",
      "Column 13-7c has 0 missing values\n",
      "Column 14 has 0 missing values\n",
      "Total missing values in specified columns: 0\n",
      "\n",
      "Column s2 has 0 missing values\n",
      "Column 1 has 0 missing values\n",
      "Column 5 has 0 missing values\n",
      "Column 10 has 0 missing values\n",
      "Column 14 has 0 missing values\n",
      "Column 16 has 0 missing values\n",
      "Column 33 has 0 missing values\n",
      "Column 43 has 0 missing values\n",
      "Total missing values in specified columns: 0\n",
      "\n"
     ]
    }
   ],
   "source": [
    "cay_df.columns = cay_col\n",
    "pp_df.columns = pp_col\n",
    "sw_df.columns = sw_col\n",
    "yo_df.columns = yo_col\n",
    "\n",
    "cay_df = delete_columns(cay_df, cay_del_col)\n",
    "pp_df = delete_columns(pp_df, pp_del_col)\n",
    "sw_df = delete_columns(sw_df, sw_del_col)\n",
    "yo_df = delete_columns(yo_df, yo_del_col)\n",
    "\n",
    "cay_df = missing_value_clean(cay_df, cay_miss_col)\n",
    "pp_df = missing_value_clean(pp_df, pp_miss_col)\n",
    "sw_df = missing_value_clean(sw_df, sw_miss_col)\n",
    "yo_df = missing_value_clean(yo_df, yo_miss_col)"
   ]
  },
  {
   "cell_type": "markdown",
   "id": "b1413316-ac12-4746-af18-edcf06c8f66c",
   "metadata": {},
   "source": [
    "The data collection commenced on the 24th of July 2024 and was finalised on the 9th of August 2024. During the data collection process, Bodhi monitored the daily status of data collection and reported to Plan International.\n",
    "\n",
    "After the data collection, data pre-processing was conducted. In general, columns with missing values exceeding 10 percent of the total data points are removed. However, after calculating the missing values in each column for all respondents across four surveys, only one missing data point was found in column 32 of the Parents and Caregivers survey. Therefore, only this missing value was removed from the dataset."
   ]
  },
  {
   "cell_type": "code",
   "execution_count": 49,
   "id": "59874685-f4cf-4b8c-8a74-a584905f99d8",
   "metadata": {},
   "outputs": [],
   "source": [
    "\"\"\"\n",
    "Values corresponding to \"Specify others\" are stored in a text file for future reference if needed.\n",
    "\"\"\"\n",
    "\n",
    "def save_unique_values_to_file(filename, data):\n",
    "    with open(filename, 'w') as file:\n",
    "        for key, values in data.items():\n",
    "            file.write('{}: {}\\n\\n'.format(key, values))\n",
    "\n",
    "cay_unique_values = {\n",
    "    'option_10': cay_df['10-os'].unique(),\n",
    "    'option_11': cay_df['11-os'].unique(),\n",
    "    'option_16': cay_df['16-os'].unique(),\n",
    "    'option_17': cay_df['17-os'].unique(),\n",
    "    'option_18': cay_df['18-os'].unique(),\n",
    "    'option_25': cay_df['25-os'].unique(),\n",
    "    'option_34': cay_df['34-os'].unique(),\n",
    "    'option_36': cay_df['36-os'].unique(),\n",
    "    'option_38': cay_df['38-os'].unique(),\n",
    "    'option_47': cay_df['47-os'].unique(),\n",
    "    'option_74': cay_df['74-os'].unique(),\n",
    "    'option_84': cay_df['84-os'].unique(),\n",
    "    'option_90': cay_df['90-os'].unique(),\n",
    "    'option_92': cay_df['92-os'].unique(),\n",
    "    'option_94': cay_df['94-os'].unique(),\n",
    "    'option_96': cay_df['96-os'].unique()\n",
    "}\n",
    "save_unique_values_to_file('data/Raw Data/text/CAY_others_values.txt', cay_unique_values)\n",
    "\n",
    "pp_unique_values = {\n",
    "    'option_8': pp_df['8-os'].unique(),\n",
    "    'option_9': pp_df['9-os'].unique(),\n",
    "    'option_27': pp_df['27-os'].unique(),\n",
    "    'option_34_1': pp_df['34-I-2-os'].unique(),\n",
    "    'option_34_2': pp_df['34-II-2-os'].unique(),\n",
    "    'option_34_3': pp_df['34-III-2-os'].unique(),\n",
    "    'option_36': pp_df['36-os'].unique(),\n",
    "    'option_37': pp_df['37-os'].unique()\n",
    "}\n",
    "save_unique_values_to_file('data/Raw Data/text/Parents_and_Caregivers_others_values.txt', pp_unique_values)\n",
    "\n",
    "sw_unique_values = {\n",
    "    'option_8': sw_df['8-os'].unique(),\n",
    "    'option_9': sw_df['9-os'].unique()\n",
    "}\n",
    "save_unique_values_to_file('data/Raw Data/text/Social_Workers_others_values.txt', sw_unique_values)\n",
    "\n",
    "yo_unique_values = {\n",
    "    'option_17': yo_df['17-ys'].unique(),\n",
    "    'option_18': yo_df['18-ys'].unique(),\n",
    "    'option_19': yo_df['19-ys'].unique(),\n",
    "    'option_20': yo_df['20-ys'].unique(),\n",
    "    'option_21': yo_df['21-ys'].unique(),\n",
    "    'option_22': yo_df['22-ys'].unique(),\n",
    "    'option_23': yo_df['23-ys'].unique(),\n",
    "    'option_24': yo_df['24-ys'].unique(),\n",
    "    'option_25': yo_df['25-ys'].unique(),\n",
    "    'option_26': yo_df['26-ys'].unique(),\n",
    "    'option_27': yo_df['27-os'].unique(),\n",
    "    'option_28': yo_df['28-os'].unique(),\n",
    "    'option_29': yo_df['29-os'].unique(),\n",
    "    'option_30': yo_df['30-os'].unique(),\n",
    "    'option_36': yo_df['36-os'].unique()\n",
    "}\n",
    "save_unique_values_to_file('data/Raw Data/text/Youth_Organisations_others_values.txt', yo_unique_values)\n"
   ]
  },
  {
   "cell_type": "code",
   "execution_count": 50,
   "id": "36f1351c-5800-4fd1-a6e8-fbb00d7c6b8c",
   "metadata": {},
   "outputs": [],
   "source": [
    "cay_df = cay_df.drop(columns=['10-os', '11-os', '16-os', '17-os', '18-os', '25-os', '34-os', '36-os', '38-os', '47-os', '74-os', '84-os', '90-os', '92-os', '94-os', '96-os'])\n",
    "pp_df = pp_df.drop(columns=['8-os', '9-os', '27-os', '34-I-2-os', '34-II-2-os', '34-III-2-os', '36-os', '37-os'])\n",
    "sw_df = sw_df.drop(columns=['8-os', '9-os'])\n",
    "yo_df = yo_df.drop(columns=['17-ys', '18-ys', '19-ys', '20-ys', '21-ys', '22-ys', '23-ys', '24-ys', '25-ys', '26-ys', '27-os', '28-os', '29-os', '30-os', '36-os'])"
   ]
  },
  {
   "cell_type": "code",
   "execution_count": 51,
   "id": "24e89ddc-62b5-4cec-823e-52a8e43d01b0",
   "metadata": {},
   "outputs": [],
   "source": [
    "def age_group(df):\n",
    "    bins = [9, 15, 19, 24, 30, 34, 60, float('inf')]\n",
    "    labels = ['10 - 15','16 - 19', '20 - 24', '25 - 30', '31 - 34', '35 - 60', 'Above 60 years']\n",
    "    df['2'] = df['2'].astype(int)\n",
    "    df['Age Group'] = pd.cut(df['2'], bins=bins, labels=labels, right=True)\n",
    "    return df\n",
    "\n",
    "cay_df = age_group(cay_df)"
   ]
  },
  {
   "cell_type": "code",
   "execution_count": 52,
   "id": "580a250f-037f-41de-a21d-faa408ef32e2",
   "metadata": {},
   "outputs": [],
   "source": [
    "dfs = [cay_df, pp_df, sw_df, yo_df]\n",
    "names = ['CAY', 'Parents and Caregivers', 'Social Workers', 'Youth Organisations']\n",
    "\n",
    "for i, n in zip(dfs, names):\n",
    "    save_data(i,n)"
   ]
  },
  {
   "cell_type": "code",
   "execution_count": 53,
   "id": "a08da648-e4bd-491d-980a-42224b1d372a",
   "metadata": {},
   "outputs": [
    {
     "name": "stdout",
     "output_type": "stream",
     "text": [
      "Data points of CAY: 942\n",
      "Data points of Parents and Caregivers: 252\n",
      "Data points of Social workers: 160\n",
      "Data points of Youth Organisations: 52\n"
     ]
    }
   ],
   "source": [
    "print(f'Data points of CAY: {len(cay_df)}')\n",
    "print(f'Data points of Parents and Caregivers: {len(pp_df)}')\n",
    "print(f'Data points of Social workers: {len(sw_df)}')\n",
    "print(f'Data points of Youth Organisations: {len(yo_df)}')"
   ]
  },
  {
   "cell_type": "code",
   "execution_count": null,
   "id": "11fe206d-1fc7-476e-91c8-871d23f53de9",
   "metadata": {},
   "outputs": [],
   "source": []
  },
  {
   "cell_type": "code",
   "execution_count": null,
   "id": "8c852d5b-7cd2-475d-924b-bbb445fbc3a7",
   "metadata": {},
   "outputs": [],
   "source": []
  },
  {
   "cell_type": "code",
   "execution_count": null,
   "id": "b5d48bc2-6297-42f3-9161-c024a2276458",
   "metadata": {},
   "outputs": [],
   "source": []
  },
  {
   "cell_type": "code",
   "execution_count": null,
   "id": "fcbc95bc-7405-41aa-8737-44d0c6f7a000",
   "metadata": {},
   "outputs": [],
   "source": []
  },
  {
   "cell_type": "code",
   "execution_count": null,
   "id": "7e6fe3fa-db68-4e1a-baea-bc577baa02c5",
   "metadata": {},
   "outputs": [],
   "source": []
  },
  {
   "cell_type": "code",
   "execution_count": null,
   "id": "6121c259-11fa-462a-a5e9-bd04be63d7b5",
   "metadata": {},
   "outputs": [],
   "source": []
  },
  {
   "cell_type": "code",
   "execution_count": null,
   "id": "4372eab2-1003-44b1-a34d-ced820ffb9ab",
   "metadata": {},
   "outputs": [],
   "source": []
  }
 ],
 "metadata": {
  "kernelspec": {
   "display_name": "Python 3 (ipykernel)",
   "language": "python",
   "name": "python3"
  },
  "language_info": {
   "codemirror_mode": {
    "name": "ipython",
    "version": 3
   },
   "file_extension": ".py",
   "mimetype": "text/x-python",
   "name": "python",
   "nbconvert_exporter": "python",
   "pygments_lexer": "ipython3",
   "version": "3.11.7"
  }
 },
 "nbformat": 4,
 "nbformat_minor": 5
}
